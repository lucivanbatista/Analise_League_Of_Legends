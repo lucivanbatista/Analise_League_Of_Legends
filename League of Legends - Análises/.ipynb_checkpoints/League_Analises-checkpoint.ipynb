{
 "cells": [
  {
   "cell_type": "code",
   "execution_count": 1,
   "metadata": {},
   "outputs": [],
   "source": [
    "import pandas as pd\n",
    "import numpy as np\n",
    "import matplotlib.pyplot as plt\n",
    "import seaborn as sns\n",
    "import gc"
   ]
  },
  {
   "cell_type": "markdown",
   "metadata": {},
   "source": [
    "# Neste trabalhamos, buscamos determinar as características durante uma partida do jogo eletrônico, League of Legends, que ocasiona a vitória."
   ]
  },
  {
   "cell_type": "markdown",
   "metadata": {},
   "source": [
    "# Carregamento dos Dados"
   ]
  },
  {
   "cell_type": "markdown",
   "metadata": {},
   "source": [
    "## Descrição das Features / Atributos de cada tabela\n",
    "* ### Tabela Campeões (champs.csv)\n",
    "    - name - Possui o nome de cada campeão (String, unique, 138)\n",
    "    - id - Um identificador único para cada campeão (varia de 1 a 516)\n",
    "* ### Tabela Partidas (matches.csv)\n",
    "    - id - Identificador da partida (Varia de 10 até 187588)\n",
    "    - gameid - Identificador do jogo (?)\n",
    "    - platformid - Região ('EUW1', 'NA1', 'EUN1', 'TR1') - (Europe West, North America, Europe Nordic and East, Turkey)\n",
    "    - queueid - Tipo da Partida (420, 440, 410,   4,  42,   9,  41) (?) \n",
    "    - seasonid - Identificador da temporada (Varia de 3 até 8)\n",
    "    - duration - Duração da partida (segundos, varia de 190 até 4991)\n",
    "    - creation - Data da criação da partida (timestamp)\n",
    "    - version - versão do patch, versão do jogo (String can repeat)\n",
    "* ### Tabela Participantes (participants.csv)\n",
    "    - id - Chave estrangeira para a chave primária da tabela stats1 / stats2\n",
    "    - matchid - Chave estrangeira para a chave primária da tabela matches\n",
    "    - player - Identificador do jogador na partida (1-5 time azul, 6-10 time vermelho)\n",
    "    - championid - Chave estrangeira para a chave primária da tabela champs\n",
    "    - ss1 - Feitiço no D\n",
    "    - ss2 - Feitiço no F\n",
    "    - role - Lane, none é jg ('NONE' 'DUO_SUPPORT' 'DUO_CARRY' 'SOLO' 'DUO') (?)\n",
    "    - position - Posição ('JUNGLE' 'BOT' 'TOP' 'MID') (?)\n",
    "* ### Tabela Estatísticas (stats1.csv e stats2.csv)\n",
    "    - id - Identificador único para a estatistica\n",
    "    - win - Vitória ou Derrota (0 ou 1)\n",
    "    - ... (Outros atributos são referentes a partida)\n",
    "* ### Tabela Estatísticas do Time (teamstats.csv)\n",
    "    - matchid - Chave estrangeira para a chave primária da tabela matches\n",
    "    - teamid - Identificador do time (100 para time azul e 200 para time vermelho) (?)\n",
    "    - firstblood - Quem matou o primeiro (0 ou 1)\n",
    "    - firsttower - Quem destruiu a primeira torre (0 ou 1)\n",
    "    - firstinhib - Quem destruiu o primeiro inibidor (0 ou 1)\n",
    "    - firstbaron - Quem matou o primeiro barão (0 ou 1)\n",
    "    - firstdragon - Quem matou o primeiro dragão (0 ou 1)\n",
    "    - firstharry - Quem matou o arauto (0 ou 1)\n",
    "    - towerkills - Quantas torres destruiu\n",
    "    - inhibkills - Quantos inibidores destruiu\n",
    "    - baronkills - Quantos barões matou\n",
    "    - dragonkills - Quantos dragões matou\n",
    "    - harrykills - Quantos arautos matou\n",
    "* ### Tabela Banimentos (teambans.csv) (NÃO UTILIZADA INICIALMENTE)"
   ]
  },
  {
   "cell_type": "markdown",
   "metadata": {},
   "source": [
    "## Observações para o pré-processamento\n",
    "1. Remover as partidas com menos de 10 minutos de jogo\n",
    "* Remover os tipos de partidas que não sejam em summerns' rift (normal as cegas, normal alternada, ranked solo e ranked flex)\n",
    "* Não é possível usar a feature 'Player' em participantes do jeito que está, pois não há uma maneira de utilizar isso, o máximo que pode-se dizer é qual o time que ele está (azul ou vermelho), ou seja, mudar para dizer qual o time\n",
    "* Role e Position atrapalha um pouco, então é melhor \"juntar\" para dizer apenas a posição, como Position só diz BOT, usaremos a role para determinar se a poição é suporte ou adc\n",
    "* Necessidade de identificação dos feitiços ss1 e ss1 em participants\n",
    "* A tabela banimentos não será utilizada, pois banimentos não interferem diretamente nas partidas apenas restringe campeões (pode haver posteriormente uma análise para identificar os campeões mais banitos de cada version ou season)\n",
    "* A tabela teamstats possui teamid que corresponde a 100 ou 200 (time azul ou vermelho)\n",
    "* A coluna harrykills será eliminada, pois só existe 1 arauto por jogo, ou seja, a coluna firstharry já diz quem adiquiriu, mas é necessário observar, pois em alguns casos, tem que o arauto é 2. Na verdade isso deve ser um problema...\n",
    "    - tstats.loc[tstats['harrykills'] > 1]"
   ]
  },
  {
   "cell_type": "markdown",
   "metadata": {},
   "source": [
    "## Tabela Campeões (champs.csv)"
   ]
  },
  {
   "cell_type": "code",
   "execution_count": 2,
   "metadata": {},
   "outputs": [
    {
     "data": {
      "text/plain": [
       "(138, 2)"
      ]
     },
     "execution_count": 2,
     "metadata": {},
     "output_type": "execute_result"
    }
   ],
   "source": [
    "# campeões\n",
    "champs = pd.read_csv('champs.csv')\n",
    "champs.shape"
   ]
  },
  {
   "cell_type": "code",
   "execution_count": 3,
   "metadata": {},
   "outputs": [
    {
     "data": {
      "text/html": [
       "<div>\n",
       "<style scoped>\n",
       "    .dataframe tbody tr th:only-of-type {\n",
       "        vertical-align: middle;\n",
       "    }\n",
       "\n",
       "    .dataframe tbody tr th {\n",
       "        vertical-align: top;\n",
       "    }\n",
       "\n",
       "    .dataframe thead th {\n",
       "        text-align: right;\n",
       "    }\n",
       "</style>\n",
       "<table border=\"1\" class=\"dataframe\">\n",
       "  <thead>\n",
       "    <tr style=\"text-align: right;\">\n",
       "      <th></th>\n",
       "      <th>name</th>\n",
       "      <th>id</th>\n",
       "    </tr>\n",
       "  </thead>\n",
       "  <tbody>\n",
       "    <tr>\n",
       "      <th>0</th>\n",
       "      <td>Jax</td>\n",
       "      <td>24</td>\n",
       "    </tr>\n",
       "    <tr>\n",
       "      <th>1</th>\n",
       "      <td>Sona</td>\n",
       "      <td>37</td>\n",
       "    </tr>\n",
       "    <tr>\n",
       "      <th>2</th>\n",
       "      <td>Tristana</td>\n",
       "      <td>18</td>\n",
       "    </tr>\n",
       "    <tr>\n",
       "      <th>3</th>\n",
       "      <td>Varus</td>\n",
       "      <td>110</td>\n",
       "    </tr>\n",
       "    <tr>\n",
       "      <th>4</th>\n",
       "      <td>Fiora</td>\n",
       "      <td>114</td>\n",
       "    </tr>\n",
       "  </tbody>\n",
       "</table>\n",
       "</div>"
      ],
      "text/plain": [
       "       name   id\n",
       "0       Jax   24\n",
       "1      Sona   37\n",
       "2  Tristana   18\n",
       "3     Varus  110\n",
       "4     Fiora  114"
      ]
     },
     "execution_count": 3,
     "metadata": {},
     "output_type": "execute_result"
    }
   ],
   "source": [
    "champs.head()"
   ]
  },
  {
   "cell_type": "code",
   "execution_count": 4,
   "metadata": {},
   "outputs": [
    {
     "data": {
      "text/plain": [
       "array([[1, 'Annie'],\n",
       "       [2, 'Olaf'],\n",
       "       [3, 'Galio'],\n",
       "       [4, 'Twisted Fate'],\n",
       "       [5, 'Xin Zhao'],\n",
       "       [6, 'Urgot'],\n",
       "       [7, 'LeBlanc'],\n",
       "       [8, 'Vladimir'],\n",
       "       [9, 'Fiddlesticks'],\n",
       "       [10, 'Kayle'],\n",
       "       [11, 'Master Yi'],\n",
       "       [12, 'Alistar'],\n",
       "       [13, 'Ryze'],\n",
       "       [14, 'Sion'],\n",
       "       [15, 'Sivir'],\n",
       "       [16, 'Soraka'],\n",
       "       [17, 'Teemo'],\n",
       "       [18, 'Tristana'],\n",
       "       [19, 'Warwick'],\n",
       "       [20, 'Nunu'],\n",
       "       [21, 'Miss Fortune'],\n",
       "       [22, 'Ashe'],\n",
       "       [23, 'Tryndamere'],\n",
       "       [24, 'Jax'],\n",
       "       [25, 'Morgana'],\n",
       "       [26, 'Zilean'],\n",
       "       [27, 'Singed'],\n",
       "       [28, 'Evelynn'],\n",
       "       [29, 'Twitch'],\n",
       "       [30, 'Karthus'],\n",
       "       [31, 'ChoGath'],\n",
       "       [32, 'Amumu'],\n",
       "       [33, 'Rammus'],\n",
       "       [34, 'Anivia'],\n",
       "       [35, 'Shaco'],\n",
       "       [36, 'DrMundo'],\n",
       "       [37, 'Sona'],\n",
       "       [38, 'Kassadin'],\n",
       "       [39, 'Irelia'],\n",
       "       [40, 'Janna'],\n",
       "       [41, 'Gangplank'],\n",
       "       [42, 'Corki'],\n",
       "       [43, 'Karma'],\n",
       "       [44, 'Taric'],\n",
       "       [45, 'Veigar'],\n",
       "       [48, 'Trundle'],\n",
       "       [50, 'Swain'],\n",
       "       [51, 'Caitlyn'],\n",
       "       [53, 'Blitzcrank'],\n",
       "       [54, 'Malphite'],\n",
       "       [55, 'Katarina'],\n",
       "       [56, 'Nocturne'],\n",
       "       [57, 'Maokai'],\n",
       "       [58, 'Renekton'],\n",
       "       [59, 'Jarvan IV'],\n",
       "       [60, 'Elise'],\n",
       "       [61, 'Orianna'],\n",
       "       [62, 'Wukong'],\n",
       "       [63, 'Brand'],\n",
       "       [64, 'Lee Sin'],\n",
       "       [67, 'Vayne'],\n",
       "       [68, 'Rumble'],\n",
       "       [69, 'Cassiopeia'],\n",
       "       [72, 'Skarner'],\n",
       "       [74, 'Heimerdinger'],\n",
       "       [75, 'Nasus'],\n",
       "       [76, 'Nidalee'],\n",
       "       [77, 'Udyr'],\n",
       "       [78, 'Poppy'],\n",
       "       [79, 'Gragas'],\n",
       "       [80, 'Pantheon'],\n",
       "       [81, 'Ezreal'],\n",
       "       [82, 'Mordekaiser'],\n",
       "       [83, 'Yorick'],\n",
       "       [84, 'Akali'],\n",
       "       [85, 'Kennen'],\n",
       "       [86, 'Garen'],\n",
       "       [89, 'Leona'],\n",
       "       [90, 'Malzahar'],\n",
       "       [91, 'Talon'],\n",
       "       [92, 'Riven'],\n",
       "       [96, 'KogMaw'],\n",
       "       [98, 'Shen'],\n",
       "       [99, 'Lux'],\n",
       "       [101, 'Xerath'],\n",
       "       [102, 'Shyvana'],\n",
       "       [103, 'Ahri'],\n",
       "       [104, 'Graves'],\n",
       "       [105, 'Fizz'],\n",
       "       [106, 'Volibear'],\n",
       "       [107, 'Rengar'],\n",
       "       [110, 'Varus'],\n",
       "       [111, 'Nautilus'],\n",
       "       [112, 'Viktor'],\n",
       "       [113, 'Sejuani'],\n",
       "       [114, 'Fiora'],\n",
       "       [115, 'Ziggs'],\n",
       "       [117, 'Lulu'],\n",
       "       [119, 'Draven'],\n",
       "       [120, 'Hecarim'],\n",
       "       [121, 'KhaZix'],\n",
       "       [122, 'Darius'],\n",
       "       [126, 'Jayce'],\n",
       "       [127, 'Lissandra'],\n",
       "       [131, 'Diana'],\n",
       "       [133, 'Quinn'],\n",
       "       [134, 'Syndra'],\n",
       "       [136, 'Aurelion Sol'],\n",
       "       [141, 'Kayn'],\n",
       "       [143, 'Zyra'],\n",
       "       [150, 'Gnar'],\n",
       "       [154, 'Zac'],\n",
       "       [157, 'Yasuo'],\n",
       "       [161, 'VelKoz'],\n",
       "       [163, 'Taliyah'],\n",
       "       [164, 'Camille'],\n",
       "       [201, 'Braum'],\n",
       "       [202, 'Jhin'],\n",
       "       [203, 'Kindred'],\n",
       "       [222, 'Jinx'],\n",
       "       [223, 'Tahm Kench'],\n",
       "       [236, 'Lucian'],\n",
       "       [238, 'Zed'],\n",
       "       [240, 'Kled'],\n",
       "       [245, 'Ekko'],\n",
       "       [254, 'Vi'],\n",
       "       [266, 'Aatrox'],\n",
       "       [267, 'Nami'],\n",
       "       [268, 'Azir'],\n",
       "       [412, 'Thresh'],\n",
       "       [420, 'Illaoi'],\n",
       "       [421, 'RekSai'],\n",
       "       [427, 'Ivern'],\n",
       "       [429, 'Kalista'],\n",
       "       [432, 'Bard'],\n",
       "       [497, 'Rakan'],\n",
       "       [498, 'Xayah'],\n",
       "       [516, 'Ornn']], dtype=object)"
      ]
     },
     "execution_count": 4,
     "metadata": {},
     "output_type": "execute_result"
    }
   ],
   "source": [
    "champs = champs.sort_index(1)\n",
    "champs = champs.sort_values(by=['id'])\n",
    "champs.values"
   ]
  },
  {
   "cell_type": "markdown",
   "metadata": {},
   "source": [
    "## Tabela Partidas (matches.csv)"
   ]
  },
  {
   "cell_type": "code",
   "execution_count": 5,
   "metadata": {},
   "outputs": [
    {
     "data": {
      "text/plain": [
       "(184069, 8)"
      ]
     },
     "execution_count": 5,
     "metadata": {},
     "output_type": "execute_result"
    }
   ],
   "source": [
    "# partidas\n",
    "matches = pd.read_csv('matches.csv')\n",
    "matches.shape"
   ]
  },
  {
   "cell_type": "code",
   "execution_count": 6,
   "metadata": {},
   "outputs": [
    {
     "data": {
      "text/html": [
       "<div>\n",
       "<style scoped>\n",
       "    .dataframe tbody tr th:only-of-type {\n",
       "        vertical-align: middle;\n",
       "    }\n",
       "\n",
       "    .dataframe tbody tr th {\n",
       "        vertical-align: top;\n",
       "    }\n",
       "\n",
       "    .dataframe thead th {\n",
       "        text-align: right;\n",
       "    }\n",
       "</style>\n",
       "<table border=\"1\" class=\"dataframe\">\n",
       "  <thead>\n",
       "    <tr style=\"text-align: right;\">\n",
       "      <th></th>\n",
       "      <th>id</th>\n",
       "      <th>gameid</th>\n",
       "      <th>platformid</th>\n",
       "      <th>queueid</th>\n",
       "      <th>seasonid</th>\n",
       "      <th>duration</th>\n",
       "      <th>creation</th>\n",
       "      <th>version</th>\n",
       "    </tr>\n",
       "  </thead>\n",
       "  <tbody>\n",
       "    <tr>\n",
       "      <th>0</th>\n",
       "      <td>10</td>\n",
       "      <td>3187427022</td>\n",
       "      <td>EUW1</td>\n",
       "      <td>420</td>\n",
       "      <td>8</td>\n",
       "      <td>1909</td>\n",
       "      <td>1495068946860</td>\n",
       "      <td>7.10.187.9675</td>\n",
       "    </tr>\n",
       "    <tr>\n",
       "      <th>1</th>\n",
       "      <td>11</td>\n",
       "      <td>3187425281</td>\n",
       "      <td>EUW1</td>\n",
       "      <td>420</td>\n",
       "      <td>8</td>\n",
       "      <td>1693</td>\n",
       "      <td>1495066760778</td>\n",
       "      <td>7.10.187.9675</td>\n",
       "    </tr>\n",
       "    <tr>\n",
       "      <th>2</th>\n",
       "      <td>12</td>\n",
       "      <td>3187269801</td>\n",
       "      <td>EUW1</td>\n",
       "      <td>420</td>\n",
       "      <td>8</td>\n",
       "      <td>1482</td>\n",
       "      <td>1495053375889</td>\n",
       "      <td>7.10.187.9675</td>\n",
       "    </tr>\n",
       "    <tr>\n",
       "      <th>3</th>\n",
       "      <td>13</td>\n",
       "      <td>3187252065</td>\n",
       "      <td>EUW1</td>\n",
       "      <td>420</td>\n",
       "      <td>8</td>\n",
       "      <td>1954</td>\n",
       "      <td>1495050993613</td>\n",
       "      <td>7.10.187.9675</td>\n",
       "    </tr>\n",
       "    <tr>\n",
       "      <th>4</th>\n",
       "      <td>14</td>\n",
       "      <td>3187201038</td>\n",
       "      <td>EUW1</td>\n",
       "      <td>420</td>\n",
       "      <td>8</td>\n",
       "      <td>2067</td>\n",
       "      <td>1495047893400</td>\n",
       "      <td>7.10.187.9675</td>\n",
       "    </tr>\n",
       "  </tbody>\n",
       "</table>\n",
       "</div>"
      ],
      "text/plain": [
       "   id      gameid platformid  queueid  seasonid  duration       creation  \\\n",
       "0  10  3187427022       EUW1      420         8      1909  1495068946860   \n",
       "1  11  3187425281       EUW1      420         8      1693  1495066760778   \n",
       "2  12  3187269801       EUW1      420         8      1482  1495053375889   \n",
       "3  13  3187252065       EUW1      420         8      1954  1495050993613   \n",
       "4  14  3187201038       EUW1      420         8      2067  1495047893400   \n",
       "\n",
       "         version  \n",
       "0  7.10.187.9675  \n",
       "1  7.10.187.9675  \n",
       "2  7.10.187.9675  \n",
       "3  7.10.187.9675  \n",
       "4  7.10.187.9675  "
      ]
     },
     "execution_count": 6,
     "metadata": {},
     "output_type": "execute_result"
    }
   ],
   "source": [
    "matches.head()"
   ]
  },
  {
   "cell_type": "code",
   "execution_count": 7,
   "metadata": {},
   "outputs": [
    {
     "data": {
      "text/plain": [
       "array([420, 440, 410,   4,  42,   9,  41], dtype=int64)"
      ]
     },
     "execution_count": 7,
     "metadata": {},
     "output_type": "execute_result"
    }
   ],
   "source": [
    "matches.queueid.unique()"
   ]
  },
  {
   "cell_type": "code",
   "execution_count": 8,
   "metadata": {},
   "outputs": [
    {
     "data": {
      "text/html": [
       "<div>\n",
       "<style scoped>\n",
       "    .dataframe tbody tr th:only-of-type {\n",
       "        vertical-align: middle;\n",
       "    }\n",
       "\n",
       "    .dataframe tbody tr th {\n",
       "        vertical-align: top;\n",
       "    }\n",
       "\n",
       "    .dataframe thead th {\n",
       "        text-align: right;\n",
       "    }\n",
       "</style>\n",
       "<table border=\"1\" class=\"dataframe\">\n",
       "  <thead>\n",
       "    <tr style=\"text-align: right;\">\n",
       "      <th></th>\n",
       "      <th>id</th>\n",
       "      <th>gameid</th>\n",
       "      <th>queueid</th>\n",
       "      <th>seasonid</th>\n",
       "      <th>duration</th>\n",
       "      <th>creation</th>\n",
       "    </tr>\n",
       "  </thead>\n",
       "  <tbody>\n",
       "    <tr>\n",
       "      <th>count</th>\n",
       "      <td>184069.000000</td>\n",
       "      <td>1.840690e+05</td>\n",
       "      <td>184069.000000</td>\n",
       "      <td>184069.000000</td>\n",
       "      <td>184069.000000</td>\n",
       "      <td>1.840690e+05</td>\n",
       "    </tr>\n",
       "    <tr>\n",
       "      <th>mean</th>\n",
       "      <td>95052.748632</td>\n",
       "      <td>3.094879e+09</td>\n",
       "      <td>404.109535</td>\n",
       "      <td>7.856434</td>\n",
       "      <td>1832.857064</td>\n",
       "      <td>1.491281e+12</td>\n",
       "    </tr>\n",
       "    <tr>\n",
       "      <th>std</th>\n",
       "      <td>53591.913586</td>\n",
       "      <td>3.188704e+08</td>\n",
       "      <td>82.017184</td>\n",
       "      <td>0.690973</td>\n",
       "      <td>509.742153</td>\n",
       "      <td>1.326276e+10</td>\n",
       "    </tr>\n",
       "    <tr>\n",
       "      <th>min</th>\n",
       "      <td>10.000000</td>\n",
       "      <td>4.576003e+08</td>\n",
       "      <td>4.000000</td>\n",
       "      <td>3.000000</td>\n",
       "      <td>190.000000</td>\n",
       "      <td>1.400522e+12</td>\n",
       "    </tr>\n",
       "    <tr>\n",
       "      <th>25%</th>\n",
       "      <td>48782.000000</td>\n",
       "      <td>3.164446e+09</td>\n",
       "      <td>420.000000</td>\n",
       "      <td>8.000000</td>\n",
       "      <td>1541.000000</td>\n",
       "      <td>1.493564e+12</td>\n",
       "    </tr>\n",
       "    <tr>\n",
       "      <th>50%</th>\n",
       "      <td>95068.000000</td>\n",
       "      <td>3.177685e+09</td>\n",
       "      <td>420.000000</td>\n",
       "      <td>8.000000</td>\n",
       "      <td>1837.000000</td>\n",
       "      <td>1.494401e+12</td>\n",
       "    </tr>\n",
       "    <tr>\n",
       "      <th>75%</th>\n",
       "      <td>141563.000000</td>\n",
       "      <td>3.186252e+09</td>\n",
       "      <td>420.000000</td>\n",
       "      <td>8.000000</td>\n",
       "      <td>2145.000000</td>\n",
       "      <td>1.494979e+12</td>\n",
       "    </tr>\n",
       "    <tr>\n",
       "      <th>max</th>\n",
       "      <td>187588.000000</td>\n",
       "      <td>3.197657e+09</td>\n",
       "      <td>440.000000</td>\n",
       "      <td>8.000000</td>\n",
       "      <td>4991.000000</td>\n",
       "      <td>1.496909e+12</td>\n",
       "    </tr>\n",
       "  </tbody>\n",
       "</table>\n",
       "</div>"
      ],
      "text/plain": [
       "                  id        gameid        queueid       seasonid  \\\n",
       "count  184069.000000  1.840690e+05  184069.000000  184069.000000   \n",
       "mean    95052.748632  3.094879e+09     404.109535       7.856434   \n",
       "std     53591.913586  3.188704e+08      82.017184       0.690973   \n",
       "min        10.000000  4.576003e+08       4.000000       3.000000   \n",
       "25%     48782.000000  3.164446e+09     420.000000       8.000000   \n",
       "50%     95068.000000  3.177685e+09     420.000000       8.000000   \n",
       "75%    141563.000000  3.186252e+09     420.000000       8.000000   \n",
       "max    187588.000000  3.197657e+09     440.000000       8.000000   \n",
       "\n",
       "            duration      creation  \n",
       "count  184069.000000  1.840690e+05  \n",
       "mean     1832.857064  1.491281e+12  \n",
       "std       509.742153  1.326276e+10  \n",
       "min       190.000000  1.400522e+12  \n",
       "25%      1541.000000  1.493564e+12  \n",
       "50%      1837.000000  1.494401e+12  \n",
       "75%      2145.000000  1.494979e+12  \n",
       "max      4991.000000  1.496909e+12  "
      ]
     },
     "execution_count": 8,
     "metadata": {},
     "output_type": "execute_result"
    }
   ],
   "source": [
    "matches.describe()"
   ]
  },
  {
   "cell_type": "markdown",
   "metadata": {},
   "source": [
    "## Tabela Participantes (participants.csv)"
   ]
  },
  {
   "cell_type": "code",
   "execution_count": 9,
   "metadata": {},
   "outputs": [
    {
     "data": {
      "text/plain": [
       "(1834520, 8)"
      ]
     },
     "execution_count": 9,
     "metadata": {},
     "output_type": "execute_result"
    }
   ],
   "source": [
    "# participantes\n",
    "participants = pd.read_csv('participants.csv')\n",
    "participants.shape"
   ]
  },
  {
   "cell_type": "code",
   "execution_count": 10,
   "metadata": {
    "scrolled": true
   },
   "outputs": [
    {
     "data": {
      "text/html": [
       "<div>\n",
       "<style scoped>\n",
       "    .dataframe tbody tr th:only-of-type {\n",
       "        vertical-align: middle;\n",
       "    }\n",
       "\n",
       "    .dataframe tbody tr th {\n",
       "        vertical-align: top;\n",
       "    }\n",
       "\n",
       "    .dataframe thead th {\n",
       "        text-align: right;\n",
       "    }\n",
       "</style>\n",
       "<table border=\"1\" class=\"dataframe\">\n",
       "  <thead>\n",
       "    <tr style=\"text-align: right;\">\n",
       "      <th></th>\n",
       "      <th>id</th>\n",
       "      <th>matchid</th>\n",
       "      <th>player</th>\n",
       "      <th>championid</th>\n",
       "      <th>ss1</th>\n",
       "      <th>ss2</th>\n",
       "      <th>role</th>\n",
       "      <th>position</th>\n",
       "    </tr>\n",
       "  </thead>\n",
       "  <tbody>\n",
       "    <tr>\n",
       "      <th>0</th>\n",
       "      <td>9</td>\n",
       "      <td>10</td>\n",
       "      <td>1</td>\n",
       "      <td>19</td>\n",
       "      <td>4</td>\n",
       "      <td>11</td>\n",
       "      <td>NONE</td>\n",
       "      <td>JUNGLE</td>\n",
       "    </tr>\n",
       "    <tr>\n",
       "      <th>1</th>\n",
       "      <td>10</td>\n",
       "      <td>10</td>\n",
       "      <td>2</td>\n",
       "      <td>267</td>\n",
       "      <td>3</td>\n",
       "      <td>4</td>\n",
       "      <td>DUO_SUPPORT</td>\n",
       "      <td>BOT</td>\n",
       "    </tr>\n",
       "    <tr>\n",
       "      <th>2</th>\n",
       "      <td>11</td>\n",
       "      <td>10</td>\n",
       "      <td>3</td>\n",
       "      <td>119</td>\n",
       "      <td>7</td>\n",
       "      <td>4</td>\n",
       "      <td>DUO_CARRY</td>\n",
       "      <td>BOT</td>\n",
       "    </tr>\n",
       "    <tr>\n",
       "      <th>3</th>\n",
       "      <td>12</td>\n",
       "      <td>10</td>\n",
       "      <td>4</td>\n",
       "      <td>114</td>\n",
       "      <td>12</td>\n",
       "      <td>4</td>\n",
       "      <td>SOLO</td>\n",
       "      <td>TOP</td>\n",
       "    </tr>\n",
       "    <tr>\n",
       "      <th>4</th>\n",
       "      <td>13</td>\n",
       "      <td>10</td>\n",
       "      <td>5</td>\n",
       "      <td>112</td>\n",
       "      <td>4</td>\n",
       "      <td>3</td>\n",
       "      <td>SOLO</td>\n",
       "      <td>MID</td>\n",
       "    </tr>\n",
       "    <tr>\n",
       "      <th>5</th>\n",
       "      <td>14</td>\n",
       "      <td>10</td>\n",
       "      <td>6</td>\n",
       "      <td>72</td>\n",
       "      <td>11</td>\n",
       "      <td>4</td>\n",
       "      <td>NONE</td>\n",
       "      <td>JUNGLE</td>\n",
       "    </tr>\n",
       "    <tr>\n",
       "      <th>6</th>\n",
       "      <td>15</td>\n",
       "      <td>10</td>\n",
       "      <td>7</td>\n",
       "      <td>3</td>\n",
       "      <td>4</td>\n",
       "      <td>12</td>\n",
       "      <td>SOLO</td>\n",
       "      <td>TOP</td>\n",
       "    </tr>\n",
       "    <tr>\n",
       "      <th>7</th>\n",
       "      <td>16</td>\n",
       "      <td>10</td>\n",
       "      <td>8</td>\n",
       "      <td>103</td>\n",
       "      <td>14</td>\n",
       "      <td>4</td>\n",
       "      <td>SOLO</td>\n",
       "      <td>MID</td>\n",
       "    </tr>\n",
       "    <tr>\n",
       "      <th>8</th>\n",
       "      <td>17</td>\n",
       "      <td>10</td>\n",
       "      <td>9</td>\n",
       "      <td>222</td>\n",
       "      <td>7</td>\n",
       "      <td>4</td>\n",
       "      <td>DUO_CARRY</td>\n",
       "      <td>BOT</td>\n",
       "    </tr>\n",
       "    <tr>\n",
       "      <th>9</th>\n",
       "      <td>18</td>\n",
       "      <td>10</td>\n",
       "      <td>10</td>\n",
       "      <td>161</td>\n",
       "      <td>14</td>\n",
       "      <td>4</td>\n",
       "      <td>DUO_SUPPORT</td>\n",
       "      <td>BOT</td>\n",
       "    </tr>\n",
       "  </tbody>\n",
       "</table>\n",
       "</div>"
      ],
      "text/plain": [
       "   id  matchid  player  championid  ss1  ss2         role position\n",
       "0   9       10       1          19    4   11         NONE   JUNGLE\n",
       "1  10       10       2         267    3    4  DUO_SUPPORT      BOT\n",
       "2  11       10       3         119    7    4    DUO_CARRY      BOT\n",
       "3  12       10       4         114   12    4         SOLO      TOP\n",
       "4  13       10       5         112    4    3         SOLO      MID\n",
       "5  14       10       6          72   11    4         NONE   JUNGLE\n",
       "6  15       10       7           3    4   12         SOLO      TOP\n",
       "7  16       10       8         103   14    4         SOLO      MID\n",
       "8  17       10       9         222    7    4    DUO_CARRY      BOT\n",
       "9  18       10      10         161   14    4  DUO_SUPPORT      BOT"
      ]
     },
     "execution_count": 10,
     "metadata": {},
     "output_type": "execute_result"
    }
   ],
   "source": [
    "participants.head(10)"
   ]
  },
  {
   "cell_type": "code",
   "execution_count": 11,
   "metadata": {},
   "outputs": [
    {
     "data": {
      "text/html": [
       "<div>\n",
       "<style scoped>\n",
       "    .dataframe tbody tr th:only-of-type {\n",
       "        vertical-align: middle;\n",
       "    }\n",
       "\n",
       "    .dataframe tbody tr th {\n",
       "        vertical-align: top;\n",
       "    }\n",
       "\n",
       "    .dataframe thead th {\n",
       "        text-align: right;\n",
       "    }\n",
       "</style>\n",
       "<table border=\"1\" class=\"dataframe\">\n",
       "  <thead>\n",
       "    <tr style=\"text-align: right;\">\n",
       "      <th></th>\n",
       "      <th>id</th>\n",
       "      <th>name</th>\n",
       "    </tr>\n",
       "  </thead>\n",
       "  <tbody>\n",
       "    <tr>\n",
       "      <th>95</th>\n",
       "      <td>19</td>\n",
       "      <td>Warwick</td>\n",
       "    </tr>\n",
       "  </tbody>\n",
       "</table>\n",
       "</div>"
      ],
      "text/plain": [
       "    id     name\n",
       "95  19  Warwick"
      ]
     },
     "execution_count": 11,
     "metadata": {},
     "output_type": "execute_result"
    }
   ],
   "source": [
    "champs.loc[champs['id'] == 19]"
   ]
  },
  {
   "cell_type": "markdown",
   "metadata": {},
   "source": [
    "## Tabela Estatísticas (stats1.csv e stats2.csv)"
   ]
  },
  {
   "cell_type": "code",
   "execution_count": 12,
   "metadata": {},
   "outputs": [
    {
     "data": {
      "text/plain": [
       "(999999, 56)"
      ]
     },
     "execution_count": 12,
     "metadata": {},
     "output_type": "execute_result"
    }
   ],
   "source": [
    "# dataset 1 representando a metade das partidas\n",
    "stats1 = pd.read_csv('stats1.csv')\n",
    "stats1.shape"
   ]
  },
  {
   "cell_type": "code",
   "execution_count": 13,
   "metadata": {},
   "outputs": [
    {
     "data": {
      "text/plain": [
       "(834518, 56)"
      ]
     },
     "execution_count": 13,
     "metadata": {},
     "output_type": "execute_result"
    }
   ],
   "source": [
    "# dataset 2 representando a outra metade das partidas\n",
    "stats2 = pd.read_csv('stats2.csv', low_memory=False)\n",
    "stats2.shape"
   ]
  },
  {
   "cell_type": "code",
   "execution_count": 14,
   "metadata": {},
   "outputs": [
    {
     "data": {
      "text/plain": [
       "(1834517, 56)"
      ]
     },
     "execution_count": 14,
     "metadata": {},
     "output_type": "execute_result"
    }
   ],
   "source": [
    "# Juntando os datasets\n",
    "stats = stats1.append(stats2)\n",
    "stats.shape"
   ]
  },
  {
   "cell_type": "code",
   "execution_count": 15,
   "metadata": {},
   "outputs": [
    {
     "data": {
      "text/plain": [
       "Index(['id', 'win', 'item1', 'item2', 'item3', 'item4', 'item5', 'item6',\n",
       "       'trinket', 'kills', 'deaths', 'assists', 'largestkillingspree',\n",
       "       'largestmultikill', 'killingsprees', 'longesttimespentliving',\n",
       "       'doublekills', 'triplekills', 'quadrakills', 'pentakills',\n",
       "       'legendarykills', 'totdmgdealt', 'magicdmgdealt', 'physicaldmgdealt',\n",
       "       'truedmgdealt', 'largestcrit', 'totdmgtochamp', 'magicdmgtochamp',\n",
       "       'physdmgtochamp', 'truedmgtochamp', 'totheal', 'totunitshealed',\n",
       "       'dmgselfmit', 'dmgtoobj', 'dmgtoturrets', 'visionscore', 'timecc',\n",
       "       'totdmgtaken', 'magicdmgtaken', 'physdmgtaken', 'truedmgtaken',\n",
       "       'goldearned', 'goldspent', 'turretkills', 'inhibkills',\n",
       "       'totminionskilled', 'neutralminionskilled', 'ownjunglekills',\n",
       "       'enemyjunglekills', 'totcctimedealt', 'champlvl', 'pinksbought',\n",
       "       'wardsbought', 'wardsplaced', 'wardskilled', 'firstblood'],\n",
       "      dtype='object')"
      ]
     },
     "execution_count": 15,
     "metadata": {},
     "output_type": "execute_result"
    }
   ],
   "source": [
    "stats.columns"
   ]
  },
  {
   "cell_type": "code",
   "execution_count": 16,
   "metadata": {},
   "outputs": [
    {
     "data": {
      "text/html": [
       "<div>\n",
       "<style scoped>\n",
       "    .dataframe tbody tr th:only-of-type {\n",
       "        vertical-align: middle;\n",
       "    }\n",
       "\n",
       "    .dataframe tbody tr th {\n",
       "        vertical-align: top;\n",
       "    }\n",
       "\n",
       "    .dataframe thead th {\n",
       "        text-align: right;\n",
       "    }\n",
       "</style>\n",
       "<table border=\"1\" class=\"dataframe\">\n",
       "  <thead>\n",
       "    <tr style=\"text-align: right;\">\n",
       "      <th></th>\n",
       "      <th>id</th>\n",
       "      <th>win</th>\n",
       "      <th>item1</th>\n",
       "      <th>item2</th>\n",
       "      <th>item3</th>\n",
       "      <th>item4</th>\n",
       "      <th>item5</th>\n",
       "      <th>item6</th>\n",
       "      <th>trinket</th>\n",
       "      <th>kills</th>\n",
       "      <th>...</th>\n",
       "      <th>neutralminionskilled</th>\n",
       "      <th>ownjunglekills</th>\n",
       "      <th>enemyjunglekills</th>\n",
       "      <th>totcctimedealt</th>\n",
       "      <th>champlvl</th>\n",
       "      <th>pinksbought</th>\n",
       "      <th>wardsbought</th>\n",
       "      <th>wardsplaced</th>\n",
       "      <th>wardskilled</th>\n",
       "      <th>firstblood</th>\n",
       "    </tr>\n",
       "  </thead>\n",
       "  <tbody>\n",
       "    <tr>\n",
       "      <th>0</th>\n",
       "      <td>9</td>\n",
       "      <td>0</td>\n",
       "      <td>3748</td>\n",
       "      <td>2003</td>\n",
       "      <td>3111</td>\n",
       "      <td>3053</td>\n",
       "      <td>1419</td>\n",
       "      <td>1042</td>\n",
       "      <td>3340</td>\n",
       "      <td>6</td>\n",
       "      <td>...</td>\n",
       "      <td>69</td>\n",
       "      <td>42</td>\n",
       "      <td>27</td>\n",
       "      <td>610</td>\n",
       "      <td>13</td>\n",
       "      <td>0</td>\n",
       "      <td>0</td>\n",
       "      <td>10</td>\n",
       "      <td>0</td>\n",
       "      <td>0</td>\n",
       "    </tr>\n",
       "    <tr>\n",
       "      <th>1</th>\n",
       "      <td>10</td>\n",
       "      <td>0</td>\n",
       "      <td>2301</td>\n",
       "      <td>3111</td>\n",
       "      <td>3190</td>\n",
       "      <td>3107</td>\n",
       "      <td>0</td>\n",
       "      <td>0</td>\n",
       "      <td>3364</td>\n",
       "      <td>0</td>\n",
       "      <td>...</td>\n",
       "      <td>1</td>\n",
       "      <td>1</td>\n",
       "      <td>0</td>\n",
       "      <td>211</td>\n",
       "      <td>14</td>\n",
       "      <td>1</td>\n",
       "      <td>0</td>\n",
       "      <td>17</td>\n",
       "      <td>3</td>\n",
       "      <td>0</td>\n",
       "    </tr>\n",
       "    <tr>\n",
       "      <th>2</th>\n",
       "      <td>11</td>\n",
       "      <td>0</td>\n",
       "      <td>1055</td>\n",
       "      <td>3072</td>\n",
       "      <td>3006</td>\n",
       "      <td>3031</td>\n",
       "      <td>3046</td>\n",
       "      <td>1036</td>\n",
       "      <td>3340</td>\n",
       "      <td>7</td>\n",
       "      <td>...</td>\n",
       "      <td>3</td>\n",
       "      <td>1</td>\n",
       "      <td>2</td>\n",
       "      <td>182</td>\n",
       "      <td>14</td>\n",
       "      <td>1</td>\n",
       "      <td>0</td>\n",
       "      <td>13</td>\n",
       "      <td>5</td>\n",
       "      <td>0</td>\n",
       "    </tr>\n",
       "    <tr>\n",
       "      <th>3</th>\n",
       "      <td>12</td>\n",
       "      <td>0</td>\n",
       "      <td>1029</td>\n",
       "      <td>3078</td>\n",
       "      <td>3156</td>\n",
       "      <td>1001</td>\n",
       "      <td>3053</td>\n",
       "      <td>0</td>\n",
       "      <td>3340</td>\n",
       "      <td>5</td>\n",
       "      <td>...</td>\n",
       "      <td>6</td>\n",
       "      <td>6</td>\n",
       "      <td>0</td>\n",
       "      <td>106</td>\n",
       "      <td>15</td>\n",
       "      <td>0</td>\n",
       "      <td>0</td>\n",
       "      <td>3</td>\n",
       "      <td>0</td>\n",
       "      <td>0</td>\n",
       "    </tr>\n",
       "    <tr>\n",
       "      <th>4</th>\n",
       "      <td>13</td>\n",
       "      <td>0</td>\n",
       "      <td>3020</td>\n",
       "      <td>1058</td>\n",
       "      <td>3198</td>\n",
       "      <td>3102</td>\n",
       "      <td>1052</td>\n",
       "      <td>1026</td>\n",
       "      <td>3340</td>\n",
       "      <td>2</td>\n",
       "      <td>...</td>\n",
       "      <td>4</td>\n",
       "      <td>3</td>\n",
       "      <td>1</td>\n",
       "      <td>159</td>\n",
       "      <td>15</td>\n",
       "      <td>0</td>\n",
       "      <td>0</td>\n",
       "      <td>10</td>\n",
       "      <td>0</td>\n",
       "      <td>0</td>\n",
       "    </tr>\n",
       "    <tr>\n",
       "      <th>5</th>\n",
       "      <td>14</td>\n",
       "      <td>1</td>\n",
       "      <td>1400</td>\n",
       "      <td>3111</td>\n",
       "      <td>3078</td>\n",
       "      <td>3742</td>\n",
       "      <td>1033</td>\n",
       "      <td>3067</td>\n",
       "      <td>3340</td>\n",
       "      <td>3</td>\n",
       "      <td>...</td>\n",
       "      <td>111</td>\n",
       "      <td>81</td>\n",
       "      <td>30</td>\n",
       "      <td>808</td>\n",
       "      <td>16</td>\n",
       "      <td>0</td>\n",
       "      <td>0</td>\n",
       "      <td>8</td>\n",
       "      <td>2</td>\n",
       "      <td>0</td>\n",
       "    </tr>\n",
       "    <tr>\n",
       "      <th>6</th>\n",
       "      <td>15</td>\n",
       "      <td>1</td>\n",
       "      <td>3025</td>\n",
       "      <td>3193</td>\n",
       "      <td>3068</td>\n",
       "      <td>3047</td>\n",
       "      <td>1028</td>\n",
       "      <td>3082</td>\n",
       "      <td>3363</td>\n",
       "      <td>4</td>\n",
       "      <td>...</td>\n",
       "      <td>6</td>\n",
       "      <td>0</td>\n",
       "      <td>6</td>\n",
       "      <td>179</td>\n",
       "      <td>16</td>\n",
       "      <td>1</td>\n",
       "      <td>0</td>\n",
       "      <td>7</td>\n",
       "      <td>0</td>\n",
       "      <td>0</td>\n",
       "    </tr>\n",
       "    <tr>\n",
       "      <th>7</th>\n",
       "      <td>16</td>\n",
       "      <td>1</td>\n",
       "      <td>3135</td>\n",
       "      <td>3165</td>\n",
       "      <td>3089</td>\n",
       "      <td>3020</td>\n",
       "      <td>1058</td>\n",
       "      <td>3136</td>\n",
       "      <td>3340</td>\n",
       "      <td>13</td>\n",
       "      <td>...</td>\n",
       "      <td>6</td>\n",
       "      <td>3</td>\n",
       "      <td>3</td>\n",
       "      <td>48</td>\n",
       "      <td>17</td>\n",
       "      <td>0</td>\n",
       "      <td>0</td>\n",
       "      <td>8</td>\n",
       "      <td>0</td>\n",
       "      <td>0</td>\n",
       "    </tr>\n",
       "    <tr>\n",
       "      <th>8</th>\n",
       "      <td>17</td>\n",
       "      <td>1</td>\n",
       "      <td>3046</td>\n",
       "      <td>3031</td>\n",
       "      <td>3006</td>\n",
       "      <td>3085</td>\n",
       "      <td>3072</td>\n",
       "      <td>1029</td>\n",
       "      <td>3340</td>\n",
       "      <td>15</td>\n",
       "      <td>...</td>\n",
       "      <td>7</td>\n",
       "      <td>2</td>\n",
       "      <td>5</td>\n",
       "      <td>440</td>\n",
       "      <td>16</td>\n",
       "      <td>1</td>\n",
       "      <td>0</td>\n",
       "      <td>6</td>\n",
       "      <td>1</td>\n",
       "      <td>1</td>\n",
       "    </tr>\n",
       "    <tr>\n",
       "      <th>9</th>\n",
       "      <td>18</td>\n",
       "      <td>1</td>\n",
       "      <td>1058</td>\n",
       "      <td>2045</td>\n",
       "      <td>3092</td>\n",
       "      <td>3089</td>\n",
       "      <td>3113</td>\n",
       "      <td>3158</td>\n",
       "      <td>3364</td>\n",
       "      <td>4</td>\n",
       "      <td>...</td>\n",
       "      <td>2</td>\n",
       "      <td>1</td>\n",
       "      <td>1</td>\n",
       "      <td>260</td>\n",
       "      <td>16</td>\n",
       "      <td>5</td>\n",
       "      <td>0</td>\n",
       "      <td>25</td>\n",
       "      <td>7</td>\n",
       "      <td>0</td>\n",
       "    </tr>\n",
       "  </tbody>\n",
       "</table>\n",
       "<p>10 rows × 56 columns</p>\n",
       "</div>"
      ],
      "text/plain": [
       "   id  win  item1  item2  item3  item4  item5  item6  trinket  kills  \\\n",
       "0   9    0   3748   2003   3111   3053   1419   1042     3340      6   \n",
       "1  10    0   2301   3111   3190   3107      0      0     3364      0   \n",
       "2  11    0   1055   3072   3006   3031   3046   1036     3340      7   \n",
       "3  12    0   1029   3078   3156   1001   3053      0     3340      5   \n",
       "4  13    0   3020   1058   3198   3102   1052   1026     3340      2   \n",
       "5  14    1   1400   3111   3078   3742   1033   3067     3340      3   \n",
       "6  15    1   3025   3193   3068   3047   1028   3082     3363      4   \n",
       "7  16    1   3135   3165   3089   3020   1058   3136     3340     13   \n",
       "8  17    1   3046   3031   3006   3085   3072   1029     3340     15   \n",
       "9  18    1   1058   2045   3092   3089   3113   3158     3364      4   \n",
       "\n",
       "      ...      neutralminionskilled  ownjunglekills  enemyjunglekills  \\\n",
       "0     ...                        69              42                27   \n",
       "1     ...                         1               1                 0   \n",
       "2     ...                         3               1                 2   \n",
       "3     ...                         6               6                 0   \n",
       "4     ...                         4               3                 1   \n",
       "5     ...                       111              81                30   \n",
       "6     ...                         6               0                 6   \n",
       "7     ...                         6               3                 3   \n",
       "8     ...                         7               2                 5   \n",
       "9     ...                         2               1                 1   \n",
       "\n",
       "   totcctimedealt  champlvl  pinksbought  wardsbought  wardsplaced  \\\n",
       "0             610        13            0            0           10   \n",
       "1             211        14            1            0           17   \n",
       "2             182        14            1            0           13   \n",
       "3             106        15            0            0            3   \n",
       "4             159        15            0            0           10   \n",
       "5             808        16            0            0            8   \n",
       "6             179        16            1            0            7   \n",
       "7              48        17            0            0            8   \n",
       "8             440        16            1            0            6   \n",
       "9             260        16            5            0           25   \n",
       "\n",
       "   wardskilled  firstblood  \n",
       "0            0           0  \n",
       "1            3           0  \n",
       "2            5           0  \n",
       "3            0           0  \n",
       "4            0           0  \n",
       "5            2           0  \n",
       "6            0           0  \n",
       "7            0           0  \n",
       "8            1           1  \n",
       "9            7           0  \n",
       "\n",
       "[10 rows x 56 columns]"
      ]
     },
     "execution_count": 16,
     "metadata": {},
     "output_type": "execute_result"
    }
   ],
   "source": [
    "stats.head(10)"
   ]
  },
  {
   "cell_type": "markdown",
   "metadata": {},
   "source": [
    "## Tabela Estatísticas dos Times (teamstats.csv)"
   ]
  },
  {
   "cell_type": "code",
   "execution_count": 17,
   "metadata": {},
   "outputs": [
    {
     "data": {
      "text/plain": [
       "(368138, 13)"
      ]
     },
     "execution_count": 17,
     "metadata": {},
     "output_type": "execute_result"
    }
   ],
   "source": [
    "tstats = pd.read_csv('teamstats.csv')\n",
    "tstats.shape"
   ]
  },
  {
   "cell_type": "code",
   "execution_count": 18,
   "metadata": {},
   "outputs": [
    {
     "data": {
      "text/html": [
       "<div>\n",
       "<style scoped>\n",
       "    .dataframe tbody tr th:only-of-type {\n",
       "        vertical-align: middle;\n",
       "    }\n",
       "\n",
       "    .dataframe tbody tr th {\n",
       "        vertical-align: top;\n",
       "    }\n",
       "\n",
       "    .dataframe thead th {\n",
       "        text-align: right;\n",
       "    }\n",
       "</style>\n",
       "<table border=\"1\" class=\"dataframe\">\n",
       "  <thead>\n",
       "    <tr style=\"text-align: right;\">\n",
       "      <th></th>\n",
       "      <th>matchid</th>\n",
       "      <th>teamid</th>\n",
       "      <th>firstblood</th>\n",
       "      <th>firsttower</th>\n",
       "      <th>firstinhib</th>\n",
       "      <th>firstbaron</th>\n",
       "      <th>firstdragon</th>\n",
       "      <th>firstharry</th>\n",
       "      <th>towerkills</th>\n",
       "      <th>inhibkills</th>\n",
       "      <th>baronkills</th>\n",
       "      <th>dragonkills</th>\n",
       "      <th>harrykills</th>\n",
       "    </tr>\n",
       "  </thead>\n",
       "  <tbody>\n",
       "    <tr>\n",
       "      <th>0</th>\n",
       "      <td>10</td>\n",
       "      <td>100</td>\n",
       "      <td>0</td>\n",
       "      <td>1</td>\n",
       "      <td>0</td>\n",
       "      <td>0</td>\n",
       "      <td>0</td>\n",
       "      <td>0</td>\n",
       "      <td>5</td>\n",
       "      <td>0</td>\n",
       "      <td>0</td>\n",
       "      <td>0</td>\n",
       "      <td>0</td>\n",
       "    </tr>\n",
       "    <tr>\n",
       "      <th>1</th>\n",
       "      <td>10</td>\n",
       "      <td>200</td>\n",
       "      <td>1</td>\n",
       "      <td>0</td>\n",
       "      <td>1</td>\n",
       "      <td>1</td>\n",
       "      <td>1</td>\n",
       "      <td>1</td>\n",
       "      <td>10</td>\n",
       "      <td>3</td>\n",
       "      <td>1</td>\n",
       "      <td>3</td>\n",
       "      <td>1</td>\n",
       "    </tr>\n",
       "    <tr>\n",
       "      <th>2</th>\n",
       "      <td>11</td>\n",
       "      <td>100</td>\n",
       "      <td>1</td>\n",
       "      <td>0</td>\n",
       "      <td>0</td>\n",
       "      <td>0</td>\n",
       "      <td>0</td>\n",
       "      <td>0</td>\n",
       "      <td>2</td>\n",
       "      <td>0</td>\n",
       "      <td>0</td>\n",
       "      <td>0</td>\n",
       "      <td>0</td>\n",
       "    </tr>\n",
       "    <tr>\n",
       "      <th>3</th>\n",
       "      <td>11</td>\n",
       "      <td>200</td>\n",
       "      <td>0</td>\n",
       "      <td>1</td>\n",
       "      <td>1</td>\n",
       "      <td>0</td>\n",
       "      <td>1</td>\n",
       "      <td>0</td>\n",
       "      <td>10</td>\n",
       "      <td>3</td>\n",
       "      <td>0</td>\n",
       "      <td>2</td>\n",
       "      <td>0</td>\n",
       "    </tr>\n",
       "    <tr>\n",
       "      <th>4</th>\n",
       "      <td>12</td>\n",
       "      <td>100</td>\n",
       "      <td>1</td>\n",
       "      <td>0</td>\n",
       "      <td>0</td>\n",
       "      <td>0</td>\n",
       "      <td>0</td>\n",
       "      <td>0</td>\n",
       "      <td>1</td>\n",
       "      <td>0</td>\n",
       "      <td>0</td>\n",
       "      <td>0</td>\n",
       "      <td>0</td>\n",
       "    </tr>\n",
       "  </tbody>\n",
       "</table>\n",
       "</div>"
      ],
      "text/plain": [
       "   matchid  teamid  firstblood  firsttower  firstinhib  firstbaron  \\\n",
       "0       10     100           0           1           0           0   \n",
       "1       10     200           1           0           1           1   \n",
       "2       11     100           1           0           0           0   \n",
       "3       11     200           0           1           1           0   \n",
       "4       12     100           1           0           0           0   \n",
       "\n",
       "   firstdragon  firstharry  towerkills  inhibkills  baronkills  dragonkills  \\\n",
       "0            0           0           5           0           0            0   \n",
       "1            1           1          10           3           1            3   \n",
       "2            0           0           2           0           0            0   \n",
       "3            1           0          10           3           0            2   \n",
       "4            0           0           1           0           0            0   \n",
       "\n",
       "   harrykills  \n",
       "0           0  \n",
       "1           1  \n",
       "2           0  \n",
       "3           0  \n",
       "4           0  "
      ]
     },
     "execution_count": 18,
     "metadata": {},
     "output_type": "execute_result"
    }
   ],
   "source": [
    "tstats.head()"
   ]
  },
  {
   "cell_type": "markdown",
   "metadata": {},
   "source": [
    "## Outros"
   ]
  },
  {
   "cell_type": "code",
   "execution_count": 19,
   "metadata": {
    "scrolled": true
   },
   "outputs": [],
   "source": [
    "p = np.array(participants['id'])\n",
    "s = np.array(stats['id'])"
   ]
  },
  {
   "cell_type": "code",
   "execution_count": 20,
   "metadata": {},
   "outputs": [
    {
     "data": {
      "text/plain": [
       "array([1272013, 1272124, 1272175], dtype=int64)"
      ]
     },
     "execution_count": 20,
     "metadata": {},
     "output_type": "execute_result"
    }
   ],
   "source": [
    "np.setdiff1d(p, s)\n",
    "# 1272013 é repetido do 1272011 (apenas remover da tabela participants esse id)\n",
    "# Os outros não adianta, tem que remover tudo deles"
   ]
  },
  {
   "cell_type": "markdown",
   "metadata": {},
   "source": [
    "## Verificação da existência de valores nulos\n",
    "#### Através das verificações abaixo, não teremos nenhum problema com relação aos valores nulos"
   ]
  },
  {
   "cell_type": "code",
   "execution_count": 21,
   "metadata": {},
   "outputs": [
    {
     "name": "stdout",
     "output_type": "stream",
     "text": [
      "(138, 2)\n"
     ]
    },
    {
     "data": {
      "text/plain": [
       "id      138\n",
       "name    138\n",
       "dtype: int64"
      ]
     },
     "execution_count": 21,
     "metadata": {},
     "output_type": "execute_result"
    }
   ],
   "source": [
    "# Para a tabela champs\n",
    "print(champs.shape)\n",
    "champs.count()"
   ]
  },
  {
   "cell_type": "code",
   "execution_count": 22,
   "metadata": {},
   "outputs": [
    {
     "name": "stdout",
     "output_type": "stream",
     "text": [
      "(184069, 8)\n"
     ]
    },
    {
     "data": {
      "text/plain": [
       "id            184069\n",
       "gameid        184069\n",
       "platformid    184069\n",
       "queueid       184069\n",
       "seasonid      184069\n",
       "duration      184069\n",
       "creation      184069\n",
       "version       184069\n",
       "dtype: int64"
      ]
     },
     "execution_count": 22,
     "metadata": {},
     "output_type": "execute_result"
    }
   ],
   "source": [
    "# Para a tabela matches\n",
    "print(matches.shape)\n",
    "matches.count()"
   ]
  },
  {
   "cell_type": "code",
   "execution_count": 23,
   "metadata": {},
   "outputs": [
    {
     "name": "stdout",
     "output_type": "stream",
     "text": [
      "(1834520, 8)\n"
     ]
    },
    {
     "data": {
      "text/plain": [
       "id            1834520\n",
       "matchid       1834520\n",
       "player        1834520\n",
       "championid    1834520\n",
       "ss1           1834520\n",
       "ss2           1834520\n",
       "role          1834520\n",
       "position      1834520\n",
       "dtype: int64"
      ]
     },
     "execution_count": 23,
     "metadata": {},
     "output_type": "execute_result"
    }
   ],
   "source": [
    "# Para a tabela participants\n",
    "print(participants.shape)\n",
    "participants.count()"
   ]
  },
  {
   "cell_type": "code",
   "execution_count": 24,
   "metadata": {},
   "outputs": [
    {
     "name": "stdout",
     "output_type": "stream",
     "text": [
      "(1834517, 56)\n"
     ]
    },
    {
     "data": {
      "text/plain": [
       "id                        1834517\n",
       "win                       1834517\n",
       "item1                     1834517\n",
       "item2                     1834517\n",
       "item3                     1834517\n",
       "item4                     1834517\n",
       "item5                     1834517\n",
       "item6                     1834517\n",
       "trinket                   1834517\n",
       "kills                     1834517\n",
       "deaths                    1834517\n",
       "assists                   1834517\n",
       "largestkillingspree       1834517\n",
       "largestmultikill          1834517\n",
       "killingsprees             1834517\n",
       "longesttimespentliving    1834517\n",
       "doublekills               1834517\n",
       "triplekills               1834517\n",
       "quadrakills               1834517\n",
       "pentakills                1834517\n",
       "legendarykills            1834517\n",
       "totdmgdealt               1834517\n",
       "magicdmgdealt             1834517\n",
       "physicaldmgdealt          1834517\n",
       "truedmgdealt              1834517\n",
       "largestcrit               1834517\n",
       "totdmgtochamp             1834517\n",
       "magicdmgtochamp           1834517\n",
       "physdmgtochamp            1834517\n",
       "truedmgtochamp            1834517\n",
       "totheal                   1834517\n",
       "totunitshealed            1834517\n",
       "dmgselfmit                1834517\n",
       "dmgtoobj                  1834517\n",
       "dmgtoturrets              1834517\n",
       "visionscore               1834517\n",
       "timecc                    1834517\n",
       "totdmgtaken               1834517\n",
       "magicdmgtaken             1834517\n",
       "physdmgtaken              1834517\n",
       "truedmgtaken              1834517\n",
       "goldearned                1834517\n",
       "goldspent                 1834517\n",
       "turretkills               1834517\n",
       "inhibkills                1834517\n",
       "totminionskilled          1834517\n",
       "neutralminionskilled      1834517\n",
       "ownjunglekills            1834517\n",
       "enemyjunglekills          1834517\n",
       "totcctimedealt            1834517\n",
       "champlvl                  1834517\n",
       "pinksbought               1834517\n",
       "wardsbought               1834517\n",
       "wardsplaced               1834517\n",
       "wardskilled               1834517\n",
       "firstblood                1834517\n",
       "dtype: int64"
      ]
     },
     "execution_count": 24,
     "metadata": {},
     "output_type": "execute_result"
    }
   ],
   "source": [
    "# Para a tabela stats\n",
    "print(stats.shape)\n",
    "stats.count()"
   ]
  },
  {
   "cell_type": "code",
   "execution_count": 25,
   "metadata": {},
   "outputs": [
    {
     "name": "stdout",
     "output_type": "stream",
     "text": [
      "(368138, 13)\n"
     ]
    },
    {
     "data": {
      "text/plain": [
       "matchid        368138\n",
       "teamid         368138\n",
       "firstblood     368138\n",
       "firsttower     368138\n",
       "firstinhib     368138\n",
       "firstbaron     368138\n",
       "firstdragon    368138\n",
       "firstharry     368138\n",
       "towerkills     368138\n",
       "inhibkills     368138\n",
       "baronkills     368138\n",
       "dragonkills    368138\n",
       "harrykills     368138\n",
       "dtype: int64"
      ]
     },
     "execution_count": 25,
     "metadata": {},
     "output_type": "execute_result"
    }
   ],
   "source": [
    "# Para a tabela tstats\n",
    "print(tstats.shape)\n",
    "tstats.count()"
   ]
  },
  {
   "cell_type": "markdown",
   "metadata": {},
   "source": [
    "## Analise de como iremos usar o merge\n",
    "Participantes é a principal com a chave estrangeira de champs, matches, stats, enquanto irei adiciona a matches a tabela tstats"
   ]
  },
  {
   "cell_type": "markdown",
   "metadata": {},
   "source": [
    "* ### Tabela Campeões (champs.csv)\n",
    "   - id - Um identificador único para cada campeão (varia de 1 a 516)\n",
    "* ### Tabela Partidas (matches.csv)\n",
    "    - id - Identificador da partida (Varia de 10 até 187588)\n",
    "* ### Tabela Participantes (participants.csv)\n",
    "    - id - Chave estrangeira para a chave primária da tabela stats1 / stats2\n",
    "    - matchid - Chave estrangeira para a chave primária da tabela matches\n",
    "    - championid - Chave estrangeira para a chave primária da tabela champs\n",
    "* ### Tabela Estatísticas (stats1.csv e stats2.csv)\n",
    "    - id - Identificador único para a estatistica\n",
    "* ### Tabela Estatísticas do Time (teamstats.csv)\n",
    "    - matchid - Chave estrangeira para a chave primária da tabela matches"
   ]
  },
  {
   "cell_type": "markdown",
   "metadata": {},
   "source": [
    "### 1º Passo = Unir algumas das tabelas para facilitar"
   ]
  },
  {
   "cell_type": "code",
   "execution_count": 26,
   "metadata": {},
   "outputs": [],
   "source": [
    "# participants e stats\n",
    "df = pd.merge(participants, stats, how = 'left', on = ['id'], suffixes=('', '_y'))\n",
    "# df com champs\n",
    "df = pd.merge(df, champs, how = 'left', left_on = 'championid', right_on = 'id', suffixes=('', '_y'))\n",
    "# df com matches\n",
    "df = pd.merge(df, matches, how = 'left', left_on = 'matchid', right_on = 'id', suffixes=('', '_y'))"
   ]
  },
  {
   "cell_type": "code",
   "execution_count": 27,
   "metadata": {},
   "outputs": [
    {
     "data": {
      "text/plain": [
       "(1834520, 73)"
      ]
     },
     "execution_count": 27,
     "metadata": {},
     "output_type": "execute_result"
    }
   ],
   "source": [
    "df.shape"
   ]
  },
  {
   "cell_type": "code",
   "execution_count": 28,
   "metadata": {},
   "outputs": [
    {
     "data": {
      "text/plain": [
       "array(['id', 'matchid', 'player', 'championid', 'ss1', 'ss2', 'role',\n",
       "       'position', 'win', 'item1', 'item2', 'item3', 'item4', 'item5',\n",
       "       'item6', 'trinket', 'kills', 'deaths', 'assists',\n",
       "       'largestkillingspree', 'largestmultikill', 'killingsprees',\n",
       "       'longesttimespentliving', 'doublekills', 'triplekills',\n",
       "       'quadrakills', 'pentakills', 'legendarykills', 'totdmgdealt',\n",
       "       'magicdmgdealt', 'physicaldmgdealt', 'truedmgdealt', 'largestcrit',\n",
       "       'totdmgtochamp', 'magicdmgtochamp', 'physdmgtochamp',\n",
       "       'truedmgtochamp', 'totheal', 'totunitshealed', 'dmgselfmit',\n",
       "       'dmgtoobj', 'dmgtoturrets', 'visionscore', 'timecc', 'totdmgtaken',\n",
       "       'magicdmgtaken', 'physdmgtaken', 'truedmgtaken', 'goldearned',\n",
       "       'goldspent', 'turretkills', 'inhibkills', 'totminionskilled',\n",
       "       'neutralminionskilled', 'ownjunglekills', 'enemyjunglekills',\n",
       "       'totcctimedealt', 'champlvl', 'pinksbought', 'wardsbought',\n",
       "       'wardsplaced', 'wardskilled', 'firstblood', 'id_y', 'name', 'id_y',\n",
       "       'gameid', 'platformid', 'queueid', 'seasonid', 'duration',\n",
       "       'creation', 'version'], dtype=object)"
      ]
     },
     "execution_count": 28,
     "metadata": {},
     "output_type": "execute_result"
    }
   ],
   "source": [
    "df.columns.values"
   ]
  },
  {
   "cell_type": "code",
   "execution_count": 29,
   "metadata": {},
   "outputs": [
    {
     "data": {
      "text/plain": [
       "89"
      ]
     },
     "execution_count": 29,
     "metadata": {},
     "output_type": "execute_result"
    }
   ],
   "source": [
    "#champs = None\n",
    "#stats = None\n",
    "#matches = None\n",
    "p = None\n",
    "s = None\n",
    "gc.collect()"
   ]
  },
  {
   "cell_type": "markdown",
   "metadata": {},
   "source": [
    "### 2º Passo = Observações para a limpeza dos dados"
   ]
  },
  {
   "cell_type": "code",
   "execution_count": 30,
   "metadata": {},
   "outputs": [
    {
     "name": "stdout",
     "output_type": "stream",
     "text": [
      "['NONE' 'DUO_SUPPORT' 'DUO_CARRY' 'SOLO' 'DUO']\n",
      "['JUNGLE' 'BOT' 'TOP' 'MID']\n"
     ]
    }
   ],
   "source": [
    "print(participants.role.unique())\n",
    "print(participants.position.unique())"
   ]
  },
  {
   "cell_type": "code",
   "execution_count": 31,
   "metadata": {},
   "outputs": [],
   "source": [
    "# Função para o apply\n",
    "# No final, ficará apenas Jungle, Top, Mid, Duo_support, Duo_carry\n",
    "def final_position(row):\n",
    "    if (row['role'] in ('DUO_SUPPORT', 'DUO_CARRY')):\n",
    "        return row['role']\n",
    "    else:\n",
    "        return row['position']\n",
    "\n",
    "df['finalposition'] = df.apply(final_position, axis = 1)"
   ]
  },
  {
   "cell_type": "code",
   "execution_count": 32,
   "metadata": {},
   "outputs": [],
   "source": [
    "# Também atualizar os times, pois temos que a feature 'player' vai de 1 até 10\n",
    "# O que apenas importa é sabe se é do time azul (1 a 5) ou vermelho (6 a 10)\n",
    "df['team'] = df['player'].apply(lambda x : '1' if x <= 5 else '2')\n",
    "# Determinar o time + posição de cada jogador\n",
    "df['team_role'] = df['team'] + ' - ' + df['finalposition']"
   ]
  },
  {
   "cell_type": "code",
   "execution_count": 33,
   "metadata": {},
   "outputs": [
    {
     "data": {
      "text/plain": [
       "id                        1834520\n",
       "matchid                   1834520\n",
       "player                    1834520\n",
       "championid                1834520\n",
       "ss1                       1834520\n",
       "ss2                       1834520\n",
       "role                      1834520\n",
       "position                  1834520\n",
       "win                       1834517\n",
       "item1                     1834517\n",
       "item2                     1834517\n",
       "item3                     1834517\n",
       "item4                     1834517\n",
       "item5                     1834517\n",
       "item6                     1834517\n",
       "trinket                   1834517\n",
       "kills                     1834517\n",
       "deaths                    1834517\n",
       "assists                   1834517\n",
       "largestkillingspree       1834517\n",
       "largestmultikill          1834517\n",
       "killingsprees             1834517\n",
       "longesttimespentliving    1834517\n",
       "doublekills               1834517\n",
       "triplekills               1834517\n",
       "quadrakills               1834517\n",
       "pentakills                1834517\n",
       "legendarykills            1834517\n",
       "totdmgdealt               1834517\n",
       "magicdmgdealt             1834517\n",
       "                           ...   \n",
       "physdmgtaken              1834517\n",
       "truedmgtaken              1834517\n",
       "goldearned                1834517\n",
       "goldspent                 1834517\n",
       "turretkills               1834517\n",
       "inhibkills                1834517\n",
       "totminionskilled          1834517\n",
       "neutralminionskilled      1834517\n",
       "ownjunglekills            1834517\n",
       "enemyjunglekills          1834517\n",
       "totcctimedealt            1834517\n",
       "champlvl                  1834517\n",
       "pinksbought               1834517\n",
       "wardsbought               1834517\n",
       "wardsplaced               1834517\n",
       "wardskilled               1834517\n",
       "firstblood                1834517\n",
       "id_y                      1834520\n",
       "name                      1834520\n",
       "id_y                      1834520\n",
       "gameid                    1834520\n",
       "platformid                1834520\n",
       "queueid                   1834520\n",
       "seasonid                  1834520\n",
       "duration                  1834520\n",
       "creation                  1834520\n",
       "version                   1834520\n",
       "finalposition             1834520\n",
       "team                      1834520\n",
       "team_role                 1834520\n",
       "Length: 76, dtype: int64"
      ]
     },
     "execution_count": 33,
     "metadata": {},
     "output_type": "execute_result"
    }
   ],
   "source": [
    "df.count()"
   ]
  },
  {
   "cell_type": "code",
   "execution_count": 34,
   "metadata": {
    "scrolled": true
   },
   "outputs": [
    {
     "data": {
      "text/plain": [
       "array(['1 - JUNGLE', '1 - DUO_SUPPORT', '1 - DUO_CARRY', '1 - TOP',\n",
       "       '1 - MID', '2 - JUNGLE', '2 - TOP', '2 - MID', '2 - DUO_CARRY',\n",
       "       '2 - DUO_SUPPORT', '1 - BOT', '2 - BOT'], dtype=object)"
      ]
     },
     "execution_count": 34,
     "metadata": {},
     "output_type": "execute_result"
    }
   ],
   "source": [
    "# Houve casos em que o BOT não é especificado, então será necessário remover\n",
    "# Essa é quando é DUO em role e BOT em position\n",
    "df.team_role.unique()"
   ]
  },
  {
   "cell_type": "code",
   "execution_count": 35,
   "metadata": {},
   "outputs": [],
   "source": [
    "# Existem alguns casos de existir duplicados, por exemplo, 3 Mid no mesmo time\n",
    "remove_index = []\n",
    "for i in ('1 - JUNGLE', '1 - DUO_SUPPORT', '1 - DUO_CARRY', '1 - TOP',\n",
    "       '1 - MID', '2 - JUNGLE', '2 - TOP', '2 - MID', '2 - DUO_CARRY',\n",
    "       '2 - DUO_SUPPORT'):\n",
    "    df_remove = df[df['team_role'] == i].groupby('matchid').agg({'team_role':'count'})\n",
    "    remove_index.extend(df_remove[df_remove['team_role'] != 1].index.values)"
   ]
  },
  {
   "cell_type": "code",
   "execution_count": 36,
   "metadata": {},
   "outputs": [
    {
     "name": "stdout",
     "output_type": "stream",
     "text": [
      "# Partidas no dataset antes da limpeza: 184069\n",
      "# Partidas no dataset depois da limpeza: 148638\n"
     ]
    }
   ],
   "source": [
    "remove_index.extend(df[df['finalposition'] == 'BOT']['matchid'].unique())\n",
    "remove_index = list(set(remove_index))\n",
    "\n",
    "print('# Partidas no dataset antes da limpeza: {}'.format(df['matchid'].nunique()))\n",
    "df = df[~df['matchid'].isin(remove_index)]\n",
    "print('# Partidas no dataset depois da limpeza: {}'.format(df['matchid'].nunique()))"
   ]
  },
  {
   "cell_type": "markdown",
   "metadata": {},
   "source": [
    "## Apresentação dos Dados"
   ]
  },
  {
   "cell_type": "code",
   "execution_count": 45,
   "metadata": {},
   "outputs": [
    {
     "data": {
      "text/html": [
       "<div>\n",
       "<style scoped>\n",
       "    .dataframe tbody tr th:only-of-type {\n",
       "        vertical-align: middle;\n",
       "    }\n",
       "\n",
       "    .dataframe tbody tr th {\n",
       "        vertical-align: top;\n",
       "    }\n",
       "\n",
       "    .dataframe thead th {\n",
       "        text-align: right;\n",
       "    }\n",
       "</style>\n",
       "<table border=\"1\" class=\"dataframe\">\n",
       "  <thead>\n",
       "    <tr style=\"text-align: right;\">\n",
       "      <th></th>\n",
       "      <th>id</th>\n",
       "      <th>matchid</th>\n",
       "      <th>player</th>\n",
       "      <th>championid</th>\n",
       "      <th>ss1</th>\n",
       "      <th>ss2</th>\n",
       "      <th>role</th>\n",
       "      <th>position</th>\n",
       "      <th>win</th>\n",
       "      <th>kills</th>\n",
       "      <th>...</th>\n",
       "      <th>wardsplaced</th>\n",
       "      <th>wardskilled</th>\n",
       "      <th>firstblood</th>\n",
       "      <th>name</th>\n",
       "      <th>gameid</th>\n",
       "      <th>platformid</th>\n",
       "      <th>seasonid</th>\n",
       "      <th>duration</th>\n",
       "      <th>creation</th>\n",
       "      <th>version</th>\n",
       "    </tr>\n",
       "  </thead>\n",
       "  <tbody>\n",
       "    <tr>\n",
       "      <th>0</th>\n",
       "      <td>9</td>\n",
       "      <td>10</td>\n",
       "      <td>1</td>\n",
       "      <td>19</td>\n",
       "      <td>4</td>\n",
       "      <td>11</td>\n",
       "      <td>NONE</td>\n",
       "      <td>JUNGLE</td>\n",
       "      <td>0.0</td>\n",
       "      <td>6.0</td>\n",
       "      <td>...</td>\n",
       "      <td>10.0</td>\n",
       "      <td>0.0</td>\n",
       "      <td>0.0</td>\n",
       "      <td>Warwick</td>\n",
       "      <td>3187427022</td>\n",
       "      <td>EUW1</td>\n",
       "      <td>8</td>\n",
       "      <td>1909</td>\n",
       "      <td>1495068946860</td>\n",
       "      <td>7.10.187.9675</td>\n",
       "    </tr>\n",
       "    <tr>\n",
       "      <th>1</th>\n",
       "      <td>10</td>\n",
       "      <td>10</td>\n",
       "      <td>2</td>\n",
       "      <td>267</td>\n",
       "      <td>3</td>\n",
       "      <td>4</td>\n",
       "      <td>DUO_SUPPORT</td>\n",
       "      <td>BOT</td>\n",
       "      <td>0.0</td>\n",
       "      <td>0.0</td>\n",
       "      <td>...</td>\n",
       "      <td>17.0</td>\n",
       "      <td>3.0</td>\n",
       "      <td>0.0</td>\n",
       "      <td>Nami</td>\n",
       "      <td>3187427022</td>\n",
       "      <td>EUW1</td>\n",
       "      <td>8</td>\n",
       "      <td>1909</td>\n",
       "      <td>1495068946860</td>\n",
       "      <td>7.10.187.9675</td>\n",
       "    </tr>\n",
       "    <tr>\n",
       "      <th>2</th>\n",
       "      <td>11</td>\n",
       "      <td>10</td>\n",
       "      <td>3</td>\n",
       "      <td>119</td>\n",
       "      <td>7</td>\n",
       "      <td>4</td>\n",
       "      <td>DUO_CARRY</td>\n",
       "      <td>BOT</td>\n",
       "      <td>0.0</td>\n",
       "      <td>7.0</td>\n",
       "      <td>...</td>\n",
       "      <td>13.0</td>\n",
       "      <td>5.0</td>\n",
       "      <td>0.0</td>\n",
       "      <td>Draven</td>\n",
       "      <td>3187427022</td>\n",
       "      <td>EUW1</td>\n",
       "      <td>8</td>\n",
       "      <td>1909</td>\n",
       "      <td>1495068946860</td>\n",
       "      <td>7.10.187.9675</td>\n",
       "    </tr>\n",
       "    <tr>\n",
       "      <th>3</th>\n",
       "      <td>12</td>\n",
       "      <td>10</td>\n",
       "      <td>4</td>\n",
       "      <td>114</td>\n",
       "      <td>12</td>\n",
       "      <td>4</td>\n",
       "      <td>SOLO</td>\n",
       "      <td>TOP</td>\n",
       "      <td>0.0</td>\n",
       "      <td>5.0</td>\n",
       "      <td>...</td>\n",
       "      <td>3.0</td>\n",
       "      <td>0.0</td>\n",
       "      <td>0.0</td>\n",
       "      <td>Fiora</td>\n",
       "      <td>3187427022</td>\n",
       "      <td>EUW1</td>\n",
       "      <td>8</td>\n",
       "      <td>1909</td>\n",
       "      <td>1495068946860</td>\n",
       "      <td>7.10.187.9675</td>\n",
       "    </tr>\n",
       "    <tr>\n",
       "      <th>4</th>\n",
       "      <td>13</td>\n",
       "      <td>10</td>\n",
       "      <td>5</td>\n",
       "      <td>112</td>\n",
       "      <td>4</td>\n",
       "      <td>3</td>\n",
       "      <td>SOLO</td>\n",
       "      <td>MID</td>\n",
       "      <td>0.0</td>\n",
       "      <td>2.0</td>\n",
       "      <td>...</td>\n",
       "      <td>10.0</td>\n",
       "      <td>0.0</td>\n",
       "      <td>0.0</td>\n",
       "      <td>Viktor</td>\n",
       "      <td>3187427022</td>\n",
       "      <td>EUW1</td>\n",
       "      <td>8</td>\n",
       "      <td>1909</td>\n",
       "      <td>1495068946860</td>\n",
       "      <td>7.10.187.9675</td>\n",
       "    </tr>\n",
       "    <tr>\n",
       "      <th>5</th>\n",
       "      <td>14</td>\n",
       "      <td>10</td>\n",
       "      <td>6</td>\n",
       "      <td>72</td>\n",
       "      <td>11</td>\n",
       "      <td>4</td>\n",
       "      <td>NONE</td>\n",
       "      <td>JUNGLE</td>\n",
       "      <td>1.0</td>\n",
       "      <td>3.0</td>\n",
       "      <td>...</td>\n",
       "      <td>8.0</td>\n",
       "      <td>2.0</td>\n",
       "      <td>0.0</td>\n",
       "      <td>Skarner</td>\n",
       "      <td>3187427022</td>\n",
       "      <td>EUW1</td>\n",
       "      <td>8</td>\n",
       "      <td>1909</td>\n",
       "      <td>1495068946860</td>\n",
       "      <td>7.10.187.9675</td>\n",
       "    </tr>\n",
       "    <tr>\n",
       "      <th>6</th>\n",
       "      <td>15</td>\n",
       "      <td>10</td>\n",
       "      <td>7</td>\n",
       "      <td>3</td>\n",
       "      <td>4</td>\n",
       "      <td>12</td>\n",
       "      <td>SOLO</td>\n",
       "      <td>TOP</td>\n",
       "      <td>1.0</td>\n",
       "      <td>4.0</td>\n",
       "      <td>...</td>\n",
       "      <td>7.0</td>\n",
       "      <td>0.0</td>\n",
       "      <td>0.0</td>\n",
       "      <td>Galio</td>\n",
       "      <td>3187427022</td>\n",
       "      <td>EUW1</td>\n",
       "      <td>8</td>\n",
       "      <td>1909</td>\n",
       "      <td>1495068946860</td>\n",
       "      <td>7.10.187.9675</td>\n",
       "    </tr>\n",
       "    <tr>\n",
       "      <th>7</th>\n",
       "      <td>16</td>\n",
       "      <td>10</td>\n",
       "      <td>8</td>\n",
       "      <td>103</td>\n",
       "      <td>14</td>\n",
       "      <td>4</td>\n",
       "      <td>SOLO</td>\n",
       "      <td>MID</td>\n",
       "      <td>1.0</td>\n",
       "      <td>13.0</td>\n",
       "      <td>...</td>\n",
       "      <td>8.0</td>\n",
       "      <td>0.0</td>\n",
       "      <td>0.0</td>\n",
       "      <td>Ahri</td>\n",
       "      <td>3187427022</td>\n",
       "      <td>EUW1</td>\n",
       "      <td>8</td>\n",
       "      <td>1909</td>\n",
       "      <td>1495068946860</td>\n",
       "      <td>7.10.187.9675</td>\n",
       "    </tr>\n",
       "    <tr>\n",
       "      <th>8</th>\n",
       "      <td>17</td>\n",
       "      <td>10</td>\n",
       "      <td>9</td>\n",
       "      <td>222</td>\n",
       "      <td>7</td>\n",
       "      <td>4</td>\n",
       "      <td>DUO_CARRY</td>\n",
       "      <td>BOT</td>\n",
       "      <td>1.0</td>\n",
       "      <td>15.0</td>\n",
       "      <td>...</td>\n",
       "      <td>6.0</td>\n",
       "      <td>1.0</td>\n",
       "      <td>1.0</td>\n",
       "      <td>Jinx</td>\n",
       "      <td>3187427022</td>\n",
       "      <td>EUW1</td>\n",
       "      <td>8</td>\n",
       "      <td>1909</td>\n",
       "      <td>1495068946860</td>\n",
       "      <td>7.10.187.9675</td>\n",
       "    </tr>\n",
       "    <tr>\n",
       "      <th>9</th>\n",
       "      <td>18</td>\n",
       "      <td>10</td>\n",
       "      <td>10</td>\n",
       "      <td>161</td>\n",
       "      <td>14</td>\n",
       "      <td>4</td>\n",
       "      <td>DUO_SUPPORT</td>\n",
       "      <td>BOT</td>\n",
       "      <td>1.0</td>\n",
       "      <td>4.0</td>\n",
       "      <td>...</td>\n",
       "      <td>25.0</td>\n",
       "      <td>7.0</td>\n",
       "      <td>0.0</td>\n",
       "      <td>VelKoz</td>\n",
       "      <td>3187427022</td>\n",
       "      <td>EUW1</td>\n",
       "      <td>8</td>\n",
       "      <td>1909</td>\n",
       "      <td>1495068946860</td>\n",
       "      <td>7.10.187.9675</td>\n",
       "    </tr>\n",
       "  </tbody>\n",
       "</table>\n",
       "<p>10 rows × 54 columns</p>\n",
       "</div>"
      ],
      "text/plain": [
       "   id  matchid  player  championid  ss1  ss2         role position  win  \\\n",
       "0   9       10       1          19    4   11         NONE   JUNGLE  0.0   \n",
       "1  10       10       2         267    3    4  DUO_SUPPORT      BOT  0.0   \n",
       "2  11       10       3         119    7    4    DUO_CARRY      BOT  0.0   \n",
       "3  12       10       4         114   12    4         SOLO      TOP  0.0   \n",
       "4  13       10       5         112    4    3         SOLO      MID  0.0   \n",
       "5  14       10       6          72   11    4         NONE   JUNGLE  1.0   \n",
       "6  15       10       7           3    4   12         SOLO      TOP  1.0   \n",
       "7  16       10       8         103   14    4         SOLO      MID  1.0   \n",
       "8  17       10       9         222    7    4    DUO_CARRY      BOT  1.0   \n",
       "9  18       10      10         161   14    4  DUO_SUPPORT      BOT  1.0   \n",
       "\n",
       "   kills      ...        wardsplaced  wardskilled  firstblood     name  \\\n",
       "0    6.0      ...               10.0          0.0         0.0  Warwick   \n",
       "1    0.0      ...               17.0          3.0         0.0     Nami   \n",
       "2    7.0      ...               13.0          5.0         0.0   Draven   \n",
       "3    5.0      ...                3.0          0.0         0.0    Fiora   \n",
       "4    2.0      ...               10.0          0.0         0.0   Viktor   \n",
       "5    3.0      ...                8.0          2.0         0.0  Skarner   \n",
       "6    4.0      ...                7.0          0.0         0.0    Galio   \n",
       "7   13.0      ...                8.0          0.0         0.0     Ahri   \n",
       "8   15.0      ...                6.0          1.0         1.0     Jinx   \n",
       "9    4.0      ...               25.0          7.0         0.0   VelKoz   \n",
       "\n",
       "       gameid  platformid  seasonid  duration       creation        version  \n",
       "0  3187427022        EUW1         8      1909  1495068946860  7.10.187.9675  \n",
       "1  3187427022        EUW1         8      1909  1495068946860  7.10.187.9675  \n",
       "2  3187427022        EUW1         8      1909  1495068946860  7.10.187.9675  \n",
       "3  3187427022        EUW1         8      1909  1495068946860  7.10.187.9675  \n",
       "4  3187427022        EUW1         8      1909  1495068946860  7.10.187.9675  \n",
       "5  3187427022        EUW1         8      1909  1495068946860  7.10.187.9675  \n",
       "6  3187427022        EUW1         8      1909  1495068946860  7.10.187.9675  \n",
       "7  3187427022        EUW1         8      1909  1495068946860  7.10.187.9675  \n",
       "8  3187427022        EUW1         8      1909  1495068946860  7.10.187.9675  \n",
       "9  3187427022        EUW1         8      1909  1495068946860  7.10.187.9675  \n",
       "\n",
       "[10 rows x 54 columns]"
      ]
     },
     "execution_count": 45,
     "metadata": {},
     "output_type": "execute_result"
    }
   ],
   "source": [
    "# ESCOLHA DAS FEATURES A SER MUDADO!\n",
    "# Os ids repetidos (id_y), queueid, item (1 a 6), trinket, foram retirados\n",
    "# Item (1 a 6) foi retirado, pois os itens são sempre atualizados a cada versão, atrapalhando as análises\n",
    "# trinket foi retirado, mesmo caso do item\n",
    "# sequência de \"kills\" não serão utilizados, pois não decidem diretamente o destino do jogo, existirá milhares de casos que\n",
    "# um time com várias sequências de kills não ganha, são: 'largestkillingspree', 'largestmultikill', 'killingsprees'\n",
    "# 'longesttimespentliving', 'doublekills', 'triplekills','quadrakills', 'pentakills', 'legendarykills'\n",
    "# \n",
    "df = df[['id', 'matchid', 'player', 'championid', 'ss1', 'ss2', 'role',\n",
    "       'position', 'win', 'kills', 'deaths', 'assists',\n",
    "        'totdmgdealt', 'magicdmgdealt', 'physicaldmgdealt', 'truedmgdealt', 'largestcrit',\n",
    "       'totdmgtochamp', 'magicdmgtochamp', 'physdmgtochamp',\n",
    "       'truedmgtochamp', 'totheal', 'totunitshealed', 'dmgselfmit',\n",
    "       'dmgtoobj', 'dmgtoturrets', 'visionscore', 'timecc', 'totdmgtaken',\n",
    "       'magicdmgtaken', 'physdmgtaken', 'truedmgtaken', 'goldearned',\n",
    "       'goldspent', 'turretkills', 'inhibkills', 'totminionskilled',\n",
    "       'neutralminionskilled', 'ownjunglekills', 'enemyjunglekills',\n",
    "       'totcctimedealt', 'champlvl', 'pinksbought', 'wardsbought',\n",
    "       'wardsplaced', 'wardskilled', 'firstblood', 'name',\n",
    "       'gameid', 'platformid', 'seasonid', 'duration',\n",
    "       'creation', 'version']]\n",
    "#df = df[['id', 'matchid', 'player', 'name', 'finalposition', 'team_role', 'win', 'kills', 'deaths', 'assists', 'turretkills','totdmgtochamp', 'totheal', 'totminionskilled', 'goldspent', 'totdmgtaken', 'inhibkills', 'pinksbought', 'wardsplaced', 'duration', 'platformid', 'seasonid', 'version']]\n",
    "df.head(10)"
   ]
  },
  {
   "cell_type": "code",
   "execution_count": 38,
   "metadata": {},
   "outputs": [
    {
     "data": {
      "text/plain": [
       "Text(0.5,1,'Wardsplaced by season: win vs loss')"
      ]
     },
     "execution_count": 38,
     "metadata": {},
     "output_type": "execute_result"
    },
    {
     "data": {
      "image/png": "[encoded data removed]",
      "text/plain": [
       "<matplotlib.figure.Figure at 0x13b53b2a198>"
      ]
     },
     "metadata": {},
     "output_type": "display_data"
    }
   ],
   "source": [
    "df_wards = df.copy()\n",
    "\n",
    "plt.figure(figsize = (15,10))\n",
    "sns.barplot(x=\"seasonid\", y=\"wardsplaced\", hue=\"win\", data=df_wards)\n",
    "plt.title('Wardsplaced by season: win vs loss')"
   ]
  },
  {
   "cell_type": "code",
   "execution_count": 39,
   "metadata": {},
   "outputs": [
    {
     "data": {
      "text/plain": [
       "Text(0.5,1,'Wardsplaced by season: win vs loss')"
      ]
     },
     "execution_count": 39,
     "metadata": {},
     "output_type": "execute_result"
    },
    {
     "data": {
      "image/png": "[encoded data removed]",
      "text/plain": [
       "<matplotlib.figure.Figure at 0x139a93deac8>"
      ]
     },
     "metadata": {},
     "output_type": "display_data"
    }
   ],
   "source": [
    "# Uma plotagem de violino mostra a distribuição de uma única variável numérica e transmite a densidade da distribuição\n",
    "#baseada em um kernel mais suave que indica a densidade de valores (via largura) do campo numérico\n",
    "plt.figure(figsize = (15,10))\n",
    "sns.violinplot(x=\"seasonid\", y=\"wardsplaced\", hue=\"win\", data=df_wards)\n",
    "plt.title('Wardsplaced by season: win vs loss')"
   ]
  },
  {
   "cell_type": "code",
   "execution_count": 40,
   "metadata": {
    "scrolled": false
   },
   "outputs": [
    {
     "data": {
      "text/plain": [
       "Text(0.5,1,'Wardsplaced by season: win vs loss')"
      ]
     },
     "execution_count": 40,
     "metadata": {},
     "output_type": "execute_result"
    },
    {
     "data": {
      "image/png": "[encoded data removed]",
      "text/plain": [
       "<matplotlib.figure.Figure at 0x139a93c3550>"
      ]
     },
     "metadata": {},
     "output_type": "display_data"
    }
   ],
   "source": [
    "plt.figure(figsize = (15,10))\n",
    "sns.boxplot(x=\"seasonid\", y=\"wardsplaced\", hue=\"win\", data=df_wards)\n",
    "plt.title('Wardsplaced by season: win vs loss')"
   ]
  },
  {
   "cell_type": "code",
   "execution_count": 41,
   "metadata": {},
   "outputs": [
    {
     "data": {
      "text/plain": [
       "count    1.486359e+06\n",
       "mean     1.200909e+01\n",
       "std      7.412150e+00\n",
       "min      0.000000e+00\n",
       "25%      7.000000e+00\n",
       "50%      1.000000e+01\n",
       "75%      1.500000e+01\n",
       "max      6.900000e+02\n",
       "Name: wardsplaced, dtype: float64"
      ]
     },
     "execution_count": 41,
     "metadata": {},
     "output_type": "execute_result"
    }
   ],
   "source": [
    "df_wards.wardsplaced.describe()"
   ]
  },
  {
   "cell_type": "code",
   "execution_count": 70,
   "metadata": {},
   "outputs": [
    {
     "data": {
      "text/plain": [
       "Text(0.5,1,'Wardsplaced by season: win vs loss')"
      ]
     },
     "execution_count": 70,
     "metadata": {},
     "output_type": "execute_result"
    },
    {
     "data": {
      "image/png": "[encoded data removed]",
      "text/plain": [
       "<matplotlib.figure.Figure at 0x13996ae0ef0>"
      ]
     },
     "metadata": {},
     "output_type": "display_data"
    }
   ],
   "source": [
    "# Como os dados está com um desvio muito grande de 75% ao max, iremos fazer a função: \n",
    "df_wards['wardsplaced'] = df_wards['wardsplaced'].apply(lambda x: x if x<30 else 30)\n",
    "df_wards['wardsplaced'] = df_wards['wardsplaced'].apply(lambda x: x if x>0 else 0)\n",
    "\n",
    "# Uma plotagem de violino mostra a distribuição de uma única variável numérica e transmite a densidade da distribuição\n",
    "#baseada em um kernel mais suave que indica a densidade de valores (via largura) do campo numérico\n",
    "# inner : {“box”, “quartile”, “point”, “stick”, None}, optional\n",
    "plt.figure(figsize = (15,10))\n",
    "sns.violinplot(x=\"seasonid\", y=\"wardsplaced\", hue=\"win\", data=df_wards, split=True, inner='quartile')\n",
    "plt.title('Wardsplaced by season: win vs loss')"
   ]
  },
  {
   "cell_type": "markdown",
   "metadata": {},
   "source": [
    "### Correlação (A SER MUDADA)"
   ]
  },
  {
   "cell_type": "code",
   "execution_count": 44,
   "metadata": {},
   "outputs": [
    {
     "data": {
      "image/png": "[encoded data removed]",
      "text/plain": [
       "<matplotlib.figure.Figure at 0x139a1a34470>"
      ]
     },
     "metadata": {},
     "output_type": "display_data"
    }
   ],
   "source": [
    "corr = df.corr()\n",
    "plt.figure(figsize=(16,16))\n",
    "plt.imshow(corr, cmap='coolwarm', interpolation=None)  \n",
    "plt.colorbar()\n",
    "plt.xticks(range(len(corr)), corr.columns)  \n",
    "plt.yticks(range(len(corr)), corr.columns);"
   ]
  },
  {
   "cell_type": "code",
   "execution_count": 46,
   "metadata": {},
   "outputs": [],
   "source": [
    "df_kills = df.copy()"
   ]
  },
  {
   "cell_type": "code",
   "execution_count": 47,
   "metadata": {
    "scrolled": true
   },
   "outputs": [
    {
     "data": {
      "text/plain": [
       "count    1.486359e+06\n",
       "mean     5.906858e+00\n",
       "std      4.531489e+00\n",
       "min      0.000000e+00\n",
       "25%      2.000000e+00\n",
       "50%      5.000000e+00\n",
       "75%      8.000000e+00\n",
       "max      4.400000e+01\n",
       "Name: kills, dtype: float64"
      ]
     },
     "execution_count": 47,
     "metadata": {},
     "output_type": "execute_result"
    }
   ],
   "source": [
    "df_kills.kills.describe()"
   ]
  },
  {
   "cell_type": "code",
   "execution_count": 73,
   "metadata": {},
   "outputs": [
    {
     "data": {
      "text/plain": [
       "Text(0.5,1,'Wardsplaced by season: win vs loss')"
      ]
     },
     "execution_count": 73,
     "metadata": {},
     "output_type": "execute_result"
    },
    {
     "data": {
      "image/png": "[encoded data removed]",
      "text/plain": [
       "<matplotlib.figure.Figure at 0x13996b75160>"
      ]
     },
     "metadata": {},
     "output_type": "display_data"
    }
   ],
   "source": [
    "# Como os dados está com um desvio muito grande de 75% ao max, iremos fazer a função: \n",
    "df_kills['kills'] = df_kills['kills'].apply(lambda x: x if x<16 else 16)\n",
    "df_kills['kills'] = df_kills['kills'].apply(lambda x: x if x>0 else 0)\n",
    "\n",
    "# Uma plotagem de violino mostra a distribuição de uma única variável numérica e transmite a densidade da distribuição\n",
    "#baseada em um kernel mais suave que indica a densidade de valores (via largura) do campo numérico\n",
    "# inner : {“box”, “quartile”, “point”, “stick”, None}, optional\n",
    "plt.figure(figsize = (15,10))\n",
    "sns.violinplot(x=\"seasonid\", y=\"kills\", hue=\"win\", data=df_kills, split=True, inner = 'quartile')\n",
    "plt.title('Wardsplaced by season: win vs loss')"
   ]
  },
  {
   "cell_type": "code",
   "execution_count": null,
   "metadata": {},
   "outputs": [],
   "source": []
  }
 ],
 "metadata": {
  "kernelspec": {
   "display_name": "Python 3",
   "language": "python",
   "name": "python3"
  },
  "language_info": {
   "codemirror_mode": {
    "name": "ipython",
    "version": 3
   },
   "file_extension": ".py",
   "mimetype": "text/x-python",
   "name": "python",
   "nbconvert_exporter": "python",
   "pygments_lexer": "ipython3",
   "version": "3.6.4"
  }
 },
 "nbformat": 4,
 "nbformat_minor": 2
}
