{
 "cells": [
  {
   "cell_type": "code",
   "execution_count": 1,
   "metadata": {},
   "outputs": [],
   "source": [
    "import pandas as pd\n",
    "import numpy as np\n",
    "import matplotlib.pyplot as plt\n",
    "import seaborn as sns\n",
    "\n",
    "from sklearn.model_selection import train_test_split\n",
    "from sklearn import metrics, preprocessing\n",
    "\n",
    "from sklearn.neighbors import KNeighborsClassifier\n",
    "from sklearn.naive_bayes import BernoulliNB\n",
    "from sklearn.ensemble import GradientBoostingClassifier, RandomForestClassifier\n",
    "from sklearn.linear_model import LogisticRegression\n",
    "from sklearn.tree import DecisionTreeClassifier"
   ]
  },
  {
   "cell_type": "markdown",
   "metadata": {},
   "source": [
    "# Neste trabalho, buscamos determinar as características durante uma partida do jogo eletrônico, League of Legends, que ocasiona a vitória."
   ]
  },
  {
   "cell_type": "markdown",
   "metadata": {},
   "source": [
    "# 1. Problema a ser resolvido:\n",
    "* ### Predizer o resultado de uma partida do jogo eletrônico League of Legends, será vitória ou derrota.\n",
    "* ### Neste trabalho, será utilizado Classificação para determinar se aquele time venceu ou perdeu a partida"
   ]
  },
  {
   "cell_type": "markdown",
   "metadata": {},
   "source": [
    "# 2. Datasets Originais\n",
    "* O dataset conta com os arquivos: champs.csv, matches.csv, participants.csv, stats1.csv, stats2.csv, teamstats.csv, teambans.csv.\n",
    "    - teambans.csv não foi utilizado, pois o banimento não influência o que acontece durante o jogo em si, então não será analisado. \n",
    "* A quantidade de tuplas de cada arquivo está destacado na seção de análise exploratória dos dados\n",
    "* Tamanho dos Datasets: 695 MB\n",
    "* 85 features e 1 label **(Win)**\n",
    "* Link: https://www.kaggle.com/paololol/league-of-legends-ranked-matches/data"
   ]
  },
  {
   "cell_type": "markdown",
   "metadata": {},
   "source": [
    "# 3. Descrição das Principais Features / Atributos de cada tabela\n",
    "* ### Tabela Campeões (champs.csv)\n",
    "    - name - Possui o nome de cada campeão (String, unique, 138)\n",
    "    - id - Um identificador único para cada campeão (varia de 1 a 516)\n",
    "* ### Tabela Partidas (matches.csv)\n",
    "    - id - Identificador da partida (Varia de 10 até 187588)\n",
    "    - gameid - Identificador do jogo\n",
    "    - platformid - Região ('EUW1', 'NA1', 'EUN1', 'TR1') - (Europe West, North America, Europe Nordic and East, Turkey)\n",
    "    - queueid - Tipo da Partida (420, 440, 410,   4,  42,   9,  41) \n",
    "    - seasonid - Identificador da temporada (Varia de 3 até 8)\n",
    "    - duration - Duração da partida (segundos, varia de 190 até 4991)\n",
    "    - creation - Data da criação da partida (timestamp)\n",
    "    - version - versão do patch, versão do jogo (String can repeat)\n",
    "* ### Tabela Participantes (participants.csv)\n",
    "    - id - Chave estrangeira para a chave primária da tabela stats1 / stats2\n",
    "    - matchid - Chave estrangeira para a chave primária da tabela matches\n",
    "    - player - Identificador do jogador na partida (1-5 time azul, 6-10 time vermelho)\n",
    "    - championid - Chave estrangeira para a chave primária da tabela champs\n",
    "    - ss1 - Feitiço no D\n",
    "    - ss2 - Feitiço no F\n",
    "    - role - Lane, none é jg ('NONE' 'DUO_SUPPORT' 'DUO_CARRY' 'SOLO' 'DUO') \n",
    "    - position - Posição ('JUNGLE' 'BOT' 'TOP' 'MID') \n",
    "* ### Tabela Estatísticas (stats1.csv e stats2.csv)\n",
    "    - id - Identificador único para a estatistica\n",
    "    - **win** - Vitória ou Derrota (0 ou 1)\n",
    "    - ... (Outros atributos são referentes a partida)\n",
    "* ### Tabela Estatísticas do Time (teamstats.csv)\n",
    "    - matchid - Chave estrangeira para a chave primária da tabela matches\n",
    "    - teamid - Identificador do time (100 para time azul e 200 para time vermelho)\n",
    "    - firstblood - Quem matou o primeiro (0 ou 1)\n",
    "    - firsttower - Quem destruiu a primeira torre (0 ou 1)\n",
    "    - firstinhib - Quem destruiu o primeiro inibidor (0 ou 1)\n",
    "    - firstbaron - Quem matou o primeiro barão (0 ou 1)\n",
    "    - firstdragon - Quem matou o primeiro dragão (0 ou 1)\n",
    "    - firstharry - Quem matou o arauto (0 ou 1)\n",
    "    - towerkills - Quantas torres destruiu\n",
    "    - inhibkills - Quantos inibidores destruiu\n",
    "    - baronkills - Quantos barões matou\n",
    "    - dragonkills - Quantos dragões matou\n",
    "    - harrykills - Quantos arautos matou"
   ]
  },
  {
   "cell_type": "markdown",
   "metadata": {},
   "source": [
    "# 4. Carregamento dos Dados / Análise Exploratória dos dados"
   ]
  },
  {
   "cell_type": "markdown",
   "metadata": {},
   "source": [
    "### Tabela Campeões (champs.csv)"
   ]
  },
  {
   "cell_type": "code",
   "execution_count": 2,
   "metadata": {},
   "outputs": [
    {
     "data": {
      "text/plain": [
       "(138, 2)"
      ]
     },
     "execution_count": 2,
     "metadata": {},
     "output_type": "execute_result"
    }
   ],
   "source": [
    "# campeões\n",
    "champs = pd.read_csv('champs.csv')\n",
    "champs.shape\n",
    "#champs.loc[champs['id'] == 19]\n",
    "#champs = champs.sort_index(1)\n",
    "#champs = champs.sort_values(by=['id'])\n",
    "#champs.values"
   ]
  },
  {
   "cell_type": "code",
   "execution_count": 3,
   "metadata": {},
   "outputs": [
    {
     "data": {
      "text/html": [
       "<div>\n",
       "<style scoped>\n",
       "    .dataframe tbody tr th:only-of-type {\n",
       "        vertical-align: middle;\n",
       "    }\n",
       "\n",
       "    .dataframe tbody tr th {\n",
       "        vertical-align: top;\n",
       "    }\n",
       "\n",
       "    .dataframe thead th {\n",
       "        text-align: right;\n",
       "    }\n",
       "</style>\n",
       "<table border=\"1\" class=\"dataframe\">\n",
       "  <thead>\n",
       "    <tr style=\"text-align: right;\">\n",
       "      <th></th>\n",
       "      <th>name</th>\n",
       "      <th>id</th>\n",
       "    </tr>\n",
       "  </thead>\n",
       "  <tbody>\n",
       "    <tr>\n",
       "      <th>0</th>\n",
       "      <td>Jax</td>\n",
       "      <td>24</td>\n",
       "    </tr>\n",
       "    <tr>\n",
       "      <th>1</th>\n",
       "      <td>Sona</td>\n",
       "      <td>37</td>\n",
       "    </tr>\n",
       "    <tr>\n",
       "      <th>2</th>\n",
       "      <td>Tristana</td>\n",
       "      <td>18</td>\n",
       "    </tr>\n",
       "    <tr>\n",
       "      <th>3</th>\n",
       "      <td>Varus</td>\n",
       "      <td>110</td>\n",
       "    </tr>\n",
       "    <tr>\n",
       "      <th>4</th>\n",
       "      <td>Fiora</td>\n",
       "      <td>114</td>\n",
       "    </tr>\n",
       "  </tbody>\n",
       "</table>\n",
       "</div>"
      ],
      "text/plain": [
       "       name   id\n",
       "0       Jax   24\n",
       "1      Sona   37\n",
       "2  Tristana   18\n",
       "3     Varus  110\n",
       "4     Fiora  114"
      ]
     },
     "execution_count": 3,
     "metadata": {},
     "output_type": "execute_result"
    }
   ],
   "source": [
    "champs.head()"
   ]
  },
  {
   "cell_type": "markdown",
   "metadata": {},
   "source": [
    "### Tabela Partidas (matches.csv)"
   ]
  },
  {
   "cell_type": "code",
   "execution_count": 4,
   "metadata": {},
   "outputs": [
    {
     "data": {
      "text/plain": [
       "(184069, 8)"
      ]
     },
     "execution_count": 4,
     "metadata": {},
     "output_type": "execute_result"
    }
   ],
   "source": [
    "# partidas\n",
    "matches = pd.read_csv('matches.csv')\n",
    "matches.shape"
   ]
  },
  {
   "cell_type": "code",
   "execution_count": 5,
   "metadata": {},
   "outputs": [
    {
     "data": {
      "text/html": [
       "<div>\n",
       "<style scoped>\n",
       "    .dataframe tbody tr th:only-of-type {\n",
       "        vertical-align: middle;\n",
       "    }\n",
       "\n",
       "    .dataframe tbody tr th {\n",
       "        vertical-align: top;\n",
       "    }\n",
       "\n",
       "    .dataframe thead th {\n",
       "        text-align: right;\n",
       "    }\n",
       "</style>\n",
       "<table border=\"1\" class=\"dataframe\">\n",
       "  <thead>\n",
       "    <tr style=\"text-align: right;\">\n",
       "      <th></th>\n",
       "      <th>id</th>\n",
       "      <th>gameid</th>\n",
       "      <th>platformid</th>\n",
       "      <th>queueid</th>\n",
       "      <th>seasonid</th>\n",
       "      <th>duration</th>\n",
       "      <th>creation</th>\n",
       "      <th>version</th>\n",
       "    </tr>\n",
       "  </thead>\n",
       "  <tbody>\n",
       "    <tr>\n",
       "      <th>0</th>\n",
       "      <td>10</td>\n",
       "      <td>3187427022</td>\n",
       "      <td>EUW1</td>\n",
       "      <td>420</td>\n",
       "      <td>8</td>\n",
       "      <td>1909</td>\n",
       "      <td>1495068946860</td>\n",
       "      <td>7.10.187.9675</td>\n",
       "    </tr>\n",
       "    <tr>\n",
       "      <th>1</th>\n",
       "      <td>11</td>\n",
       "      <td>3187425281</td>\n",
       "      <td>EUW1</td>\n",
       "      <td>420</td>\n",
       "      <td>8</td>\n",
       "      <td>1693</td>\n",
       "      <td>1495066760778</td>\n",
       "      <td>7.10.187.9675</td>\n",
       "    </tr>\n",
       "    <tr>\n",
       "      <th>2</th>\n",
       "      <td>12</td>\n",
       "      <td>3187269801</td>\n",
       "      <td>EUW1</td>\n",
       "      <td>420</td>\n",
       "      <td>8</td>\n",
       "      <td>1482</td>\n",
       "      <td>1495053375889</td>\n",
       "      <td>7.10.187.9675</td>\n",
       "    </tr>\n",
       "    <tr>\n",
       "      <th>3</th>\n",
       "      <td>13</td>\n",
       "      <td>3187252065</td>\n",
       "      <td>EUW1</td>\n",
       "      <td>420</td>\n",
       "      <td>8</td>\n",
       "      <td>1954</td>\n",
       "      <td>1495050993613</td>\n",
       "      <td>7.10.187.9675</td>\n",
       "    </tr>\n",
       "    <tr>\n",
       "      <th>4</th>\n",
       "      <td>14</td>\n",
       "      <td>3187201038</td>\n",
       "      <td>EUW1</td>\n",
       "      <td>420</td>\n",
       "      <td>8</td>\n",
       "      <td>2067</td>\n",
       "      <td>1495047893400</td>\n",
       "      <td>7.10.187.9675</td>\n",
       "    </tr>\n",
       "  </tbody>\n",
       "</table>\n",
       "</div>"
      ],
      "text/plain": [
       "   id      gameid platformid  queueid  seasonid  duration       creation  \\\n",
       "0  10  3187427022       EUW1      420         8      1909  1495068946860   \n",
       "1  11  3187425281       EUW1      420         8      1693  1495066760778   \n",
       "2  12  3187269801       EUW1      420         8      1482  1495053375889   \n",
       "3  13  3187252065       EUW1      420         8      1954  1495050993613   \n",
       "4  14  3187201038       EUW1      420         8      2067  1495047893400   \n",
       "\n",
       "         version  \n",
       "0  7.10.187.9675  \n",
       "1  7.10.187.9675  \n",
       "2  7.10.187.9675  \n",
       "3  7.10.187.9675  \n",
       "4  7.10.187.9675  "
      ]
     },
     "execution_count": 5,
     "metadata": {},
     "output_type": "execute_result"
    }
   ],
   "source": [
    "matches.head()"
   ]
  },
  {
   "cell_type": "markdown",
   "metadata": {},
   "source": [
    "### Tabela Participantes (participants.csv)"
   ]
  },
  {
   "cell_type": "code",
   "execution_count": 6,
   "metadata": {},
   "outputs": [
    {
     "data": {
      "text/plain": [
       "(1834520, 8)"
      ]
     },
     "execution_count": 6,
     "metadata": {},
     "output_type": "execute_result"
    }
   ],
   "source": [
    "# participantes\n",
    "participants = pd.read_csv('participants.csv')\n",
    "participants.shape"
   ]
  },
  {
   "cell_type": "code",
   "execution_count": 7,
   "metadata": {
    "scrolled": true
   },
   "outputs": [
    {
     "data": {
      "text/html": [
       "<div>\n",
       "<style scoped>\n",
       "    .dataframe tbody tr th:only-of-type {\n",
       "        vertical-align: middle;\n",
       "    }\n",
       "\n",
       "    .dataframe tbody tr th {\n",
       "        vertical-align: top;\n",
       "    }\n",
       "\n",
       "    .dataframe thead th {\n",
       "        text-align: right;\n",
       "    }\n",
       "</style>\n",
       "<table border=\"1\" class=\"dataframe\">\n",
       "  <thead>\n",
       "    <tr style=\"text-align: right;\">\n",
       "      <th></th>\n",
       "      <th>id</th>\n",
       "      <th>matchid</th>\n",
       "      <th>player</th>\n",
       "      <th>championid</th>\n",
       "      <th>ss1</th>\n",
       "      <th>ss2</th>\n",
       "      <th>role</th>\n",
       "      <th>position</th>\n",
       "    </tr>\n",
       "  </thead>\n",
       "  <tbody>\n",
       "    <tr>\n",
       "      <th>0</th>\n",
       "      <td>9</td>\n",
       "      <td>10</td>\n",
       "      <td>1</td>\n",
       "      <td>19</td>\n",
       "      <td>4</td>\n",
       "      <td>11</td>\n",
       "      <td>NONE</td>\n",
       "      <td>JUNGLE</td>\n",
       "    </tr>\n",
       "    <tr>\n",
       "      <th>1</th>\n",
       "      <td>10</td>\n",
       "      <td>10</td>\n",
       "      <td>2</td>\n",
       "      <td>267</td>\n",
       "      <td>3</td>\n",
       "      <td>4</td>\n",
       "      <td>DUO_SUPPORT</td>\n",
       "      <td>BOT</td>\n",
       "    </tr>\n",
       "    <tr>\n",
       "      <th>2</th>\n",
       "      <td>11</td>\n",
       "      <td>10</td>\n",
       "      <td>3</td>\n",
       "      <td>119</td>\n",
       "      <td>7</td>\n",
       "      <td>4</td>\n",
       "      <td>DUO_CARRY</td>\n",
       "      <td>BOT</td>\n",
       "    </tr>\n",
       "    <tr>\n",
       "      <th>3</th>\n",
       "      <td>12</td>\n",
       "      <td>10</td>\n",
       "      <td>4</td>\n",
       "      <td>114</td>\n",
       "      <td>12</td>\n",
       "      <td>4</td>\n",
       "      <td>SOLO</td>\n",
       "      <td>TOP</td>\n",
       "    </tr>\n",
       "    <tr>\n",
       "      <th>4</th>\n",
       "      <td>13</td>\n",
       "      <td>10</td>\n",
       "      <td>5</td>\n",
       "      <td>112</td>\n",
       "      <td>4</td>\n",
       "      <td>3</td>\n",
       "      <td>SOLO</td>\n",
       "      <td>MID</td>\n",
       "    </tr>\n",
       "    <tr>\n",
       "      <th>5</th>\n",
       "      <td>14</td>\n",
       "      <td>10</td>\n",
       "      <td>6</td>\n",
       "      <td>72</td>\n",
       "      <td>11</td>\n",
       "      <td>4</td>\n",
       "      <td>NONE</td>\n",
       "      <td>JUNGLE</td>\n",
       "    </tr>\n",
       "    <tr>\n",
       "      <th>6</th>\n",
       "      <td>15</td>\n",
       "      <td>10</td>\n",
       "      <td>7</td>\n",
       "      <td>3</td>\n",
       "      <td>4</td>\n",
       "      <td>12</td>\n",
       "      <td>SOLO</td>\n",
       "      <td>TOP</td>\n",
       "    </tr>\n",
       "    <tr>\n",
       "      <th>7</th>\n",
       "      <td>16</td>\n",
       "      <td>10</td>\n",
       "      <td>8</td>\n",
       "      <td>103</td>\n",
       "      <td>14</td>\n",
       "      <td>4</td>\n",
       "      <td>SOLO</td>\n",
       "      <td>MID</td>\n",
       "    </tr>\n",
       "    <tr>\n",
       "      <th>8</th>\n",
       "      <td>17</td>\n",
       "      <td>10</td>\n",
       "      <td>9</td>\n",
       "      <td>222</td>\n",
       "      <td>7</td>\n",
       "      <td>4</td>\n",
       "      <td>DUO_CARRY</td>\n",
       "      <td>BOT</td>\n",
       "    </tr>\n",
       "    <tr>\n",
       "      <th>9</th>\n",
       "      <td>18</td>\n",
       "      <td>10</td>\n",
       "      <td>10</td>\n",
       "      <td>161</td>\n",
       "      <td>14</td>\n",
       "      <td>4</td>\n",
       "      <td>DUO_SUPPORT</td>\n",
       "      <td>BOT</td>\n",
       "    </tr>\n",
       "  </tbody>\n",
       "</table>\n",
       "</div>"
      ],
      "text/plain": [
       "   id  matchid  player  championid  ss1  ss2         role position\n",
       "0   9       10       1          19    4   11         NONE   JUNGLE\n",
       "1  10       10       2         267    3    4  DUO_SUPPORT      BOT\n",
       "2  11       10       3         119    7    4    DUO_CARRY      BOT\n",
       "3  12       10       4         114   12    4         SOLO      TOP\n",
       "4  13       10       5         112    4    3         SOLO      MID\n",
       "5  14       10       6          72   11    4         NONE   JUNGLE\n",
       "6  15       10       7           3    4   12         SOLO      TOP\n",
       "7  16       10       8         103   14    4         SOLO      MID\n",
       "8  17       10       9         222    7    4    DUO_CARRY      BOT\n",
       "9  18       10      10         161   14    4  DUO_SUPPORT      BOT"
      ]
     },
     "execution_count": 7,
     "metadata": {},
     "output_type": "execute_result"
    }
   ],
   "source": [
    "participants.head(10)"
   ]
  },
  {
   "cell_type": "markdown",
   "metadata": {},
   "source": [
    "### Tabela Estatísticas (stats1.csv e stats2.csv)"
   ]
  },
  {
   "cell_type": "code",
   "execution_count": 8,
   "metadata": {},
   "outputs": [
    {
     "data": {
      "text/plain": [
       "(999999, 56)"
      ]
     },
     "execution_count": 8,
     "metadata": {},
     "output_type": "execute_result"
    }
   ],
   "source": [
    "# dataset 1 representando a metade das partidas\n",
    "stats1 = pd.read_csv('stats1.csv')\n",
    "stats1.shape"
   ]
  },
  {
   "cell_type": "code",
   "execution_count": 9,
   "metadata": {},
   "outputs": [
    {
     "data": {
      "text/plain": [
       "(834518, 56)"
      ]
     },
     "execution_count": 9,
     "metadata": {},
     "output_type": "execute_result"
    }
   ],
   "source": [
    "# dataset 2 representando a outra metade das partidas\n",
    "stats2 = pd.read_csv('stats2.csv', low_memory=False)\n",
    "stats2.shape"
   ]
  },
  {
   "cell_type": "code",
   "execution_count": 10,
   "metadata": {},
   "outputs": [
    {
     "data": {
      "text/plain": [
       "(1834517, 56)"
      ]
     },
     "execution_count": 10,
     "metadata": {},
     "output_type": "execute_result"
    }
   ],
   "source": [
    "# Juntando os datasets\n",
    "stats = stats1.append(stats2)\n",
    "stats.shape\n",
    "#stats.columns"
   ]
  },
  {
   "cell_type": "code",
   "execution_count": 11,
   "metadata": {},
   "outputs": [
    {
     "data": {
      "text/html": [
       "<div>\n",
       "<style scoped>\n",
       "    .dataframe tbody tr th:only-of-type {\n",
       "        vertical-align: middle;\n",
       "    }\n",
       "\n",
       "    .dataframe tbody tr th {\n",
       "        vertical-align: top;\n",
       "    }\n",
       "\n",
       "    .dataframe thead th {\n",
       "        text-align: right;\n",
       "    }\n",
       "</style>\n",
       "<table border=\"1\" class=\"dataframe\">\n",
       "  <thead>\n",
       "    <tr style=\"text-align: right;\">\n",
       "      <th></th>\n",
       "      <th>id</th>\n",
       "      <th>win</th>\n",
       "      <th>item1</th>\n",
       "      <th>item2</th>\n",
       "      <th>item3</th>\n",
       "      <th>item4</th>\n",
       "      <th>item5</th>\n",
       "      <th>item6</th>\n",
       "      <th>trinket</th>\n",
       "      <th>kills</th>\n",
       "      <th>...</th>\n",
       "      <th>neutralminionskilled</th>\n",
       "      <th>ownjunglekills</th>\n",
       "      <th>enemyjunglekills</th>\n",
       "      <th>totcctimedealt</th>\n",
       "      <th>champlvl</th>\n",
       "      <th>pinksbought</th>\n",
       "      <th>wardsbought</th>\n",
       "      <th>wardsplaced</th>\n",
       "      <th>wardskilled</th>\n",
       "      <th>firstblood</th>\n",
       "    </tr>\n",
       "  </thead>\n",
       "  <tbody>\n",
       "    <tr>\n",
       "      <th>0</th>\n",
       "      <td>9</td>\n",
       "      <td>0</td>\n",
       "      <td>3748</td>\n",
       "      <td>2003</td>\n",
       "      <td>3111</td>\n",
       "      <td>3053</td>\n",
       "      <td>1419</td>\n",
       "      <td>1042</td>\n",
       "      <td>3340</td>\n",
       "      <td>6</td>\n",
       "      <td>...</td>\n",
       "      <td>69</td>\n",
       "      <td>42</td>\n",
       "      <td>27</td>\n",
       "      <td>610</td>\n",
       "      <td>13</td>\n",
       "      <td>0</td>\n",
       "      <td>0</td>\n",
       "      <td>10</td>\n",
       "      <td>0</td>\n",
       "      <td>0</td>\n",
       "    </tr>\n",
       "    <tr>\n",
       "      <th>1</th>\n",
       "      <td>10</td>\n",
       "      <td>0</td>\n",
       "      <td>2301</td>\n",
       "      <td>3111</td>\n",
       "      <td>3190</td>\n",
       "      <td>3107</td>\n",
       "      <td>0</td>\n",
       "      <td>0</td>\n",
       "      <td>3364</td>\n",
       "      <td>0</td>\n",
       "      <td>...</td>\n",
       "      <td>1</td>\n",
       "      <td>1</td>\n",
       "      <td>0</td>\n",
       "      <td>211</td>\n",
       "      <td>14</td>\n",
       "      <td>1</td>\n",
       "      <td>0</td>\n",
       "      <td>17</td>\n",
       "      <td>3</td>\n",
       "      <td>0</td>\n",
       "    </tr>\n",
       "    <tr>\n",
       "      <th>2</th>\n",
       "      <td>11</td>\n",
       "      <td>0</td>\n",
       "      <td>1055</td>\n",
       "      <td>3072</td>\n",
       "      <td>3006</td>\n",
       "      <td>3031</td>\n",
       "      <td>3046</td>\n",
       "      <td>1036</td>\n",
       "      <td>3340</td>\n",
       "      <td>7</td>\n",
       "      <td>...</td>\n",
       "      <td>3</td>\n",
       "      <td>1</td>\n",
       "      <td>2</td>\n",
       "      <td>182</td>\n",
       "      <td>14</td>\n",
       "      <td>1</td>\n",
       "      <td>0</td>\n",
       "      <td>13</td>\n",
       "      <td>5</td>\n",
       "      <td>0</td>\n",
       "    </tr>\n",
       "    <tr>\n",
       "      <th>3</th>\n",
       "      <td>12</td>\n",
       "      <td>0</td>\n",
       "      <td>1029</td>\n",
       "      <td>3078</td>\n",
       "      <td>3156</td>\n",
       "      <td>1001</td>\n",
       "      <td>3053</td>\n",
       "      <td>0</td>\n",
       "      <td>3340</td>\n",
       "      <td>5</td>\n",
       "      <td>...</td>\n",
       "      <td>6</td>\n",
       "      <td>6</td>\n",
       "      <td>0</td>\n",
       "      <td>106</td>\n",
       "      <td>15</td>\n",
       "      <td>0</td>\n",
       "      <td>0</td>\n",
       "      <td>3</td>\n",
       "      <td>0</td>\n",
       "      <td>0</td>\n",
       "    </tr>\n",
       "    <tr>\n",
       "      <th>4</th>\n",
       "      <td>13</td>\n",
       "      <td>0</td>\n",
       "      <td>3020</td>\n",
       "      <td>1058</td>\n",
       "      <td>3198</td>\n",
       "      <td>3102</td>\n",
       "      <td>1052</td>\n",
       "      <td>1026</td>\n",
       "      <td>3340</td>\n",
       "      <td>2</td>\n",
       "      <td>...</td>\n",
       "      <td>4</td>\n",
       "      <td>3</td>\n",
       "      <td>1</td>\n",
       "      <td>159</td>\n",
       "      <td>15</td>\n",
       "      <td>0</td>\n",
       "      <td>0</td>\n",
       "      <td>10</td>\n",
       "      <td>0</td>\n",
       "      <td>0</td>\n",
       "    </tr>\n",
       "    <tr>\n",
       "      <th>5</th>\n",
       "      <td>14</td>\n",
       "      <td>1</td>\n",
       "      <td>1400</td>\n",
       "      <td>3111</td>\n",
       "      <td>3078</td>\n",
       "      <td>3742</td>\n",
       "      <td>1033</td>\n",
       "      <td>3067</td>\n",
       "      <td>3340</td>\n",
       "      <td>3</td>\n",
       "      <td>...</td>\n",
       "      <td>111</td>\n",
       "      <td>81</td>\n",
       "      <td>30</td>\n",
       "      <td>808</td>\n",
       "      <td>16</td>\n",
       "      <td>0</td>\n",
       "      <td>0</td>\n",
       "      <td>8</td>\n",
       "      <td>2</td>\n",
       "      <td>0</td>\n",
       "    </tr>\n",
       "    <tr>\n",
       "      <th>6</th>\n",
       "      <td>15</td>\n",
       "      <td>1</td>\n",
       "      <td>3025</td>\n",
       "      <td>3193</td>\n",
       "      <td>3068</td>\n",
       "      <td>3047</td>\n",
       "      <td>1028</td>\n",
       "      <td>3082</td>\n",
       "      <td>3363</td>\n",
       "      <td>4</td>\n",
       "      <td>...</td>\n",
       "      <td>6</td>\n",
       "      <td>0</td>\n",
       "      <td>6</td>\n",
       "      <td>179</td>\n",
       "      <td>16</td>\n",
       "      <td>1</td>\n",
       "      <td>0</td>\n",
       "      <td>7</td>\n",
       "      <td>0</td>\n",
       "      <td>0</td>\n",
       "    </tr>\n",
       "    <tr>\n",
       "      <th>7</th>\n",
       "      <td>16</td>\n",
       "      <td>1</td>\n",
       "      <td>3135</td>\n",
       "      <td>3165</td>\n",
       "      <td>3089</td>\n",
       "      <td>3020</td>\n",
       "      <td>1058</td>\n",
       "      <td>3136</td>\n",
       "      <td>3340</td>\n",
       "      <td>13</td>\n",
       "      <td>...</td>\n",
       "      <td>6</td>\n",
       "      <td>3</td>\n",
       "      <td>3</td>\n",
       "      <td>48</td>\n",
       "      <td>17</td>\n",
       "      <td>0</td>\n",
       "      <td>0</td>\n",
       "      <td>8</td>\n",
       "      <td>0</td>\n",
       "      <td>0</td>\n",
       "    </tr>\n",
       "    <tr>\n",
       "      <th>8</th>\n",
       "      <td>17</td>\n",
       "      <td>1</td>\n",
       "      <td>3046</td>\n",
       "      <td>3031</td>\n",
       "      <td>3006</td>\n",
       "      <td>3085</td>\n",
       "      <td>3072</td>\n",
       "      <td>1029</td>\n",
       "      <td>3340</td>\n",
       "      <td>15</td>\n",
       "      <td>...</td>\n",
       "      <td>7</td>\n",
       "      <td>2</td>\n",
       "      <td>5</td>\n",
       "      <td>440</td>\n",
       "      <td>16</td>\n",
       "      <td>1</td>\n",
       "      <td>0</td>\n",
       "      <td>6</td>\n",
       "      <td>1</td>\n",
       "      <td>1</td>\n",
       "    </tr>\n",
       "    <tr>\n",
       "      <th>9</th>\n",
       "      <td>18</td>\n",
       "      <td>1</td>\n",
       "      <td>1058</td>\n",
       "      <td>2045</td>\n",
       "      <td>3092</td>\n",
       "      <td>3089</td>\n",
       "      <td>3113</td>\n",
       "      <td>3158</td>\n",
       "      <td>3364</td>\n",
       "      <td>4</td>\n",
       "      <td>...</td>\n",
       "      <td>2</td>\n",
       "      <td>1</td>\n",
       "      <td>1</td>\n",
       "      <td>260</td>\n",
       "      <td>16</td>\n",
       "      <td>5</td>\n",
       "      <td>0</td>\n",
       "      <td>25</td>\n",
       "      <td>7</td>\n",
       "      <td>0</td>\n",
       "    </tr>\n",
       "  </tbody>\n",
       "</table>\n",
       "<p>10 rows × 56 columns</p>\n",
       "</div>"
      ],
      "text/plain": [
       "   id  win  item1  item2  item3  item4  item5  item6  trinket  kills  \\\n",
       "0   9    0   3748   2003   3111   3053   1419   1042     3340      6   \n",
       "1  10    0   2301   3111   3190   3107      0      0     3364      0   \n",
       "2  11    0   1055   3072   3006   3031   3046   1036     3340      7   \n",
       "3  12    0   1029   3078   3156   1001   3053      0     3340      5   \n",
       "4  13    0   3020   1058   3198   3102   1052   1026     3340      2   \n",
       "5  14    1   1400   3111   3078   3742   1033   3067     3340      3   \n",
       "6  15    1   3025   3193   3068   3047   1028   3082     3363      4   \n",
       "7  16    1   3135   3165   3089   3020   1058   3136     3340     13   \n",
       "8  17    1   3046   3031   3006   3085   3072   1029     3340     15   \n",
       "9  18    1   1058   2045   3092   3089   3113   3158     3364      4   \n",
       "\n",
       "      ...      neutralminionskilled  ownjunglekills  enemyjunglekills  \\\n",
       "0     ...                        69              42                27   \n",
       "1     ...                         1               1                 0   \n",
       "2     ...                         3               1                 2   \n",
       "3     ...                         6               6                 0   \n",
       "4     ...                         4               3                 1   \n",
       "5     ...                       111              81                30   \n",
       "6     ...                         6               0                 6   \n",
       "7     ...                         6               3                 3   \n",
       "8     ...                         7               2                 5   \n",
       "9     ...                         2               1                 1   \n",
       "\n",
       "   totcctimedealt  champlvl  pinksbought  wardsbought  wardsplaced  \\\n",
       "0             610        13            0            0           10   \n",
       "1             211        14            1            0           17   \n",
       "2             182        14            1            0           13   \n",
       "3             106        15            0            0            3   \n",
       "4             159        15            0            0           10   \n",
       "5             808        16            0            0            8   \n",
       "6             179        16            1            0            7   \n",
       "7              48        17            0            0            8   \n",
       "8             440        16            1            0            6   \n",
       "9             260        16            5            0           25   \n",
       "\n",
       "   wardskilled  firstblood  \n",
       "0            0           0  \n",
       "1            3           0  \n",
       "2            5           0  \n",
       "3            0           0  \n",
       "4            0           0  \n",
       "5            2           0  \n",
       "6            0           0  \n",
       "7            0           0  \n",
       "8            1           1  \n",
       "9            7           0  \n",
       "\n",
       "[10 rows x 56 columns]"
      ]
     },
     "execution_count": 11,
     "metadata": {},
     "output_type": "execute_result"
    }
   ],
   "source": [
    "stats.head(10)"
   ]
  },
  {
   "cell_type": "markdown",
   "metadata": {},
   "source": [
    "### Tabela Estatísticas dos Times (teamstats.csv)"
   ]
  },
  {
   "cell_type": "code",
   "execution_count": 12,
   "metadata": {},
   "outputs": [
    {
     "data": {
      "text/plain": [
       "(368138, 13)"
      ]
     },
     "execution_count": 12,
     "metadata": {},
     "output_type": "execute_result"
    }
   ],
   "source": [
    "tstats = pd.read_csv('teamstats.csv')\n",
    "tstats.teamid = tstats.teamid.div(100)\n",
    "tstats.shape"
   ]
  },
  {
   "cell_type": "code",
   "execution_count": 13,
   "metadata": {},
   "outputs": [
    {
     "data": {
      "text/html": [
       "<div>\n",
       "<style scoped>\n",
       "    .dataframe tbody tr th:only-of-type {\n",
       "        vertical-align: middle;\n",
       "    }\n",
       "\n",
       "    .dataframe tbody tr th {\n",
       "        vertical-align: top;\n",
       "    }\n",
       "\n",
       "    .dataframe thead th {\n",
       "        text-align: right;\n",
       "    }\n",
       "</style>\n",
       "<table border=\"1\" class=\"dataframe\">\n",
       "  <thead>\n",
       "    <tr style=\"text-align: right;\">\n",
       "      <th></th>\n",
       "      <th>matchid</th>\n",
       "      <th>teamid</th>\n",
       "      <th>firstblood</th>\n",
       "      <th>firsttower</th>\n",
       "      <th>firstinhib</th>\n",
       "      <th>firstbaron</th>\n",
       "      <th>firstdragon</th>\n",
       "      <th>firstharry</th>\n",
       "      <th>towerkills</th>\n",
       "      <th>inhibkills</th>\n",
       "      <th>baronkills</th>\n",
       "      <th>dragonkills</th>\n",
       "      <th>harrykills</th>\n",
       "    </tr>\n",
       "  </thead>\n",
       "  <tbody>\n",
       "    <tr>\n",
       "      <th>0</th>\n",
       "      <td>10</td>\n",
       "      <td>1.0</td>\n",
       "      <td>0</td>\n",
       "      <td>1</td>\n",
       "      <td>0</td>\n",
       "      <td>0</td>\n",
       "      <td>0</td>\n",
       "      <td>0</td>\n",
       "      <td>5</td>\n",
       "      <td>0</td>\n",
       "      <td>0</td>\n",
       "      <td>0</td>\n",
       "      <td>0</td>\n",
       "    </tr>\n",
       "    <tr>\n",
       "      <th>1</th>\n",
       "      <td>10</td>\n",
       "      <td>2.0</td>\n",
       "      <td>1</td>\n",
       "      <td>0</td>\n",
       "      <td>1</td>\n",
       "      <td>1</td>\n",
       "      <td>1</td>\n",
       "      <td>1</td>\n",
       "      <td>10</td>\n",
       "      <td>3</td>\n",
       "      <td>1</td>\n",
       "      <td>3</td>\n",
       "      <td>1</td>\n",
       "    </tr>\n",
       "    <tr>\n",
       "      <th>2</th>\n",
       "      <td>11</td>\n",
       "      <td>1.0</td>\n",
       "      <td>1</td>\n",
       "      <td>0</td>\n",
       "      <td>0</td>\n",
       "      <td>0</td>\n",
       "      <td>0</td>\n",
       "      <td>0</td>\n",
       "      <td>2</td>\n",
       "      <td>0</td>\n",
       "      <td>0</td>\n",
       "      <td>0</td>\n",
       "      <td>0</td>\n",
       "    </tr>\n",
       "    <tr>\n",
       "      <th>3</th>\n",
       "      <td>11</td>\n",
       "      <td>2.0</td>\n",
       "      <td>0</td>\n",
       "      <td>1</td>\n",
       "      <td>1</td>\n",
       "      <td>0</td>\n",
       "      <td>1</td>\n",
       "      <td>0</td>\n",
       "      <td>10</td>\n",
       "      <td>3</td>\n",
       "      <td>0</td>\n",
       "      <td>2</td>\n",
       "      <td>0</td>\n",
       "    </tr>\n",
       "    <tr>\n",
       "      <th>4</th>\n",
       "      <td>12</td>\n",
       "      <td>1.0</td>\n",
       "      <td>1</td>\n",
       "      <td>0</td>\n",
       "      <td>0</td>\n",
       "      <td>0</td>\n",
       "      <td>0</td>\n",
       "      <td>0</td>\n",
       "      <td>1</td>\n",
       "      <td>0</td>\n",
       "      <td>0</td>\n",
       "      <td>0</td>\n",
       "      <td>0</td>\n",
       "    </tr>\n",
       "  </tbody>\n",
       "</table>\n",
       "</div>"
      ],
      "text/plain": [
       "   matchid  teamid  firstblood  firsttower  firstinhib  firstbaron  \\\n",
       "0       10     1.0           0           1           0           0   \n",
       "1       10     2.0           1           0           1           1   \n",
       "2       11     1.0           1           0           0           0   \n",
       "3       11     2.0           0           1           1           0   \n",
       "4       12     1.0           1           0           0           0   \n",
       "\n",
       "   firstdragon  firstharry  towerkills  inhibkills  baronkills  dragonkills  \\\n",
       "0            0           0           5           0           0            0   \n",
       "1            1           1          10           3           1            3   \n",
       "2            0           0           2           0           0            0   \n",
       "3            1           0          10           3           0            2   \n",
       "4            0           0           1           0           0            0   \n",
       "\n",
       "   harrykills  \n",
       "0           0  \n",
       "1           1  \n",
       "2           0  \n",
       "3           0  \n",
       "4           0  "
      ]
     },
     "execution_count": 13,
     "metadata": {},
     "output_type": "execute_result"
    }
   ],
   "source": [
    "tstats.head()"
   ]
  },
  {
   "cell_type": "markdown",
   "metadata": {},
   "source": [
    "# 5. Verificação da existência de valores nulos\n",
    "#### Através das verificações abaixo, não teremos nenhum problema com relação aos valores nulos"
   ]
  },
  {
   "cell_type": "code",
   "execution_count": 14,
   "metadata": {},
   "outputs": [
    {
     "name": "stdout",
     "output_type": "stream",
     "text": [
      "(138, 2)\n"
     ]
    },
    {
     "data": {
      "text/plain": [
       "name    138\n",
       "id      138\n",
       "dtype: int64"
      ]
     },
     "execution_count": 14,
     "metadata": {},
     "output_type": "execute_result"
    }
   ],
   "source": [
    "# Para a tabela champs\n",
    "print(champs.shape)\n",
    "champs.count()"
   ]
  },
  {
   "cell_type": "code",
   "execution_count": 15,
   "metadata": {},
   "outputs": [
    {
     "name": "stdout",
     "output_type": "stream",
     "text": [
      "(184069, 8)\n"
     ]
    },
    {
     "data": {
      "text/plain": [
       "id            184069\n",
       "gameid        184069\n",
       "platformid    184069\n",
       "queueid       184069\n",
       "seasonid      184069\n",
       "duration      184069\n",
       "creation      184069\n",
       "version       184069\n",
       "dtype: int64"
      ]
     },
     "execution_count": 15,
     "metadata": {},
     "output_type": "execute_result"
    }
   ],
   "source": [
    "# Para a tabela matches\n",
    "print(matches.shape)\n",
    "matches.count()"
   ]
  },
  {
   "cell_type": "code",
   "execution_count": 16,
   "metadata": {},
   "outputs": [
    {
     "name": "stdout",
     "output_type": "stream",
     "text": [
      "(1834520, 8)\n"
     ]
    },
    {
     "data": {
      "text/plain": [
       "id            1834520\n",
       "matchid       1834520\n",
       "player        1834520\n",
       "championid    1834520\n",
       "ss1           1834520\n",
       "ss2           1834520\n",
       "role          1834520\n",
       "position      1834520\n",
       "dtype: int64"
      ]
     },
     "execution_count": 16,
     "metadata": {},
     "output_type": "execute_result"
    }
   ],
   "source": [
    "# Para a tabela participants\n",
    "print(participants.shape)\n",
    "participants.count()"
   ]
  },
  {
   "cell_type": "code",
   "execution_count": 17,
   "metadata": {
    "scrolled": true
   },
   "outputs": [
    {
     "name": "stdout",
     "output_type": "stream",
     "text": [
      "(1834517, 56)\n"
     ]
    },
    {
     "data": {
      "text/plain": [
       "id                        1834517\n",
       "win                       1834517\n",
       "item1                     1834517\n",
       "item2                     1834517\n",
       "item3                     1834517\n",
       "item4                     1834517\n",
       "item5                     1834517\n",
       "item6                     1834517\n",
       "trinket                   1834517\n",
       "kills                     1834517\n",
       "deaths                    1834517\n",
       "assists                   1834517\n",
       "largestkillingspree       1834517\n",
       "largestmultikill          1834517\n",
       "killingsprees             1834517\n",
       "longesttimespentliving    1834517\n",
       "doublekills               1834517\n",
       "triplekills               1834517\n",
       "quadrakills               1834517\n",
       "pentakills                1834517\n",
       "legendarykills            1834517\n",
       "totdmgdealt               1834517\n",
       "magicdmgdealt             1834517\n",
       "physicaldmgdealt          1834517\n",
       "truedmgdealt              1834517\n",
       "largestcrit               1834517\n",
       "totdmgtochamp             1834517\n",
       "magicdmgtochamp           1834517\n",
       "physdmgtochamp            1834517\n",
       "truedmgtochamp            1834517\n",
       "totheal                   1834517\n",
       "totunitshealed            1834517\n",
       "dmgselfmit                1834517\n",
       "dmgtoobj                  1834517\n",
       "dmgtoturrets              1834517\n",
       "visionscore               1834517\n",
       "timecc                    1834517\n",
       "totdmgtaken               1834517\n",
       "magicdmgtaken             1834517\n",
       "physdmgtaken              1834517\n",
       "truedmgtaken              1834517\n",
       "goldearned                1834517\n",
       "goldspent                 1834517\n",
       "turretkills               1834517\n",
       "inhibkills                1834517\n",
       "totminionskilled          1834517\n",
       "neutralminionskilled      1834517\n",
       "ownjunglekills            1834517\n",
       "enemyjunglekills          1834517\n",
       "totcctimedealt            1834517\n",
       "champlvl                  1834517\n",
       "pinksbought               1834517\n",
       "wardsbought               1834517\n",
       "wardsplaced               1834517\n",
       "wardskilled               1834517\n",
       "firstblood                1834517\n",
       "dtype: int64"
      ]
     },
     "execution_count": 17,
     "metadata": {},
     "output_type": "execute_result"
    }
   ],
   "source": [
    "# Para a tabela stats\n",
    "print(stats.shape)\n",
    "stats.count()"
   ]
  },
  {
   "cell_type": "code",
   "execution_count": 18,
   "metadata": {
    "scrolled": true
   },
   "outputs": [
    {
     "name": "stdout",
     "output_type": "stream",
     "text": [
      "(368138, 13)\n"
     ]
    },
    {
     "data": {
      "text/plain": [
       "matchid        368138\n",
       "teamid         368138\n",
       "firstblood     368138\n",
       "firsttower     368138\n",
       "firstinhib     368138\n",
       "firstbaron     368138\n",
       "firstdragon    368138\n",
       "firstharry     368138\n",
       "towerkills     368138\n",
       "inhibkills     368138\n",
       "baronkills     368138\n",
       "dragonkills    368138\n",
       "harrykills     368138\n",
       "dtype: int64"
      ]
     },
     "execution_count": 18,
     "metadata": {},
     "output_type": "execute_result"
    }
   ],
   "source": [
    "# Para a tabela tstats\n",
    "print(tstats.shape)\n",
    "tstats.count()"
   ]
  },
  {
   "cell_type": "markdown",
   "metadata": {},
   "source": [
    "# 6. Unindo as tabelas (Merge)\n",
    "Participantes é a principal com a chave estrangeira de champs, matches, stats, enquanto irei adiciona a matches a tabela tstats"
   ]
  },
  {
   "cell_type": "markdown",
   "metadata": {},
   "source": [
    "* ### Tabela Campeões (champs.csv)\n",
    "   - id - Um identificador único para cada campeão (varia de 1 a 516)\n",
    "* ### Tabela Partidas (matches.csv)\n",
    "    - id - Identificador da partida (Varia de 10 até 187588)\n",
    "* ### Tabela Participantes (participants.csv)\n",
    "    - id - Chave estrangeira para a chave primária da tabela stats1 / stats2\n",
    "    - matchid - Chave estrangeira para a chave primária da tabela matches\n",
    "    - championid - Chave estrangeira para a chave primária da tabela champs\n",
    "* ### Tabela Estatísticas (stats1.csv e stats2.csv)\n",
    "    - id - Identificador único para a estatistica\n",
    "* ### Tabela Estatísticas do Time (teamstats.csv)\n",
    "    - teamid - Chave estrangeira para a chave primária da tabela matches"
   ]
  },
  {
   "cell_type": "markdown",
   "metadata": {},
   "source": [
    "### 1º Passo = Unir algumas das tabelas para facilitar"
   ]
  },
  {
   "cell_type": "code",
   "execution_count": 19,
   "metadata": {},
   "outputs": [],
   "source": [
    "# participants e stats\n",
    "df = pd.merge(participants, stats, how = 'left', on = ['id'], suffixes=('', '_y'))\n",
    "# df com champs\n",
    "df = pd.merge(df, champs, how = 'left', left_on = 'championid', right_on = 'id', suffixes=('', '_champ'))\n",
    "# df com matches\n",
    "df = pd.merge(df, matches, how = 'left', left_on = 'matchid', right_on = 'id', suffixes=('', '_y'))"
   ]
  },
  {
   "cell_type": "code",
   "execution_count": 20,
   "metadata": {},
   "outputs": [
    {
     "data": {
      "text/plain": [
       "(1834520, 73)"
      ]
     },
     "execution_count": 20,
     "metadata": {},
     "output_type": "execute_result"
    }
   ],
   "source": [
    "df.shape"
   ]
  },
  {
   "cell_type": "markdown",
   "metadata": {},
   "source": [
    "### 2º Passo = Pré-processamento dos dados\n",
    "* Possuimos em *participants* os atributos **role** e **position**, onde os dois tentam dizer qual o local que o jogador irá jogar e qual a função do jogador no jogo, mas só é necessário dizer qual a função dele no jogo, só que **role** não consegue dizer sozinho, tornando-se necessário criar uma função para determinar isso.\n",
    "* Também é necessário atualizar os times, pois temos que a feature **player** vai de 1 até 10, o que apenas importa é sabe se é do time azul (1 a 5) ou vermelho (6 a 10). Criamos uma função para dizer 1 se é azul ou 2 se é vermelho. Também é necessário criar uma feature para determinar a função + time\n",
    "* Houve casos em que o BOT não é especificado, então será necessário remover. Essa é quando é DUO em role e BOT em position. Existem alguns casos de existir duplicados, por exemplo, 3 Mid no mesmo time.\n",
    "\n",
    "\n",
    "- Atributos retirados: 'item1', 'item2', 'item3', 'item4', 'item5','item6', 'trinket','largestkillingspree', 'largestmultikill', 'killingsprees', 'longesttimespentliving', 'legendarykills','plataformid', 'queueid', 'seasonid',"
   ]
  },
  {
   "cell_type": "code",
   "execution_count": 21,
   "metadata": {},
   "outputs": [
    {
     "name": "stdout",
     "output_type": "stream",
     "text": [
      "['NONE' 'DUO_SUPPORT' 'DUO_CARRY' 'SOLO' 'DUO']\n",
      "['JUNGLE' 'BOT' 'TOP' 'MID']\n"
     ]
    }
   ],
   "source": [
    "# AQUI ESTÁ SENDO MODIFICADO ROLE E POSITION PARA FINALPOSITION\n",
    "print(participants.role.unique())\n",
    "print(participants.position.unique())\n",
    "\n",
    "# Função para o apply\n",
    "# No final, ficará apenas Jungle, Top, Mid, Duo_support, Duo_carry\n",
    "def final_position(row):\n",
    "    if (row['role'] in ('DUO_SUPPORT', 'DUO_CARRY')):\n",
    "        return row['role']\n",
    "    else:\n",
    "        return row['position']\n",
    "\n",
    "df['finalposition'] = df.apply(final_position, axis = 1)"
   ]
  },
  {
   "cell_type": "code",
   "execution_count": 22,
   "metadata": {},
   "outputs": [],
   "source": [
    "# AQUI ESTÁ SENDO MODIFICADO PLAYER PARA TEAM\n",
    "df['team'] = df['player'].apply(lambda x : '1' if x <= 5 else '2')\n",
    "# Determinar o time + posição de cada jogador\n",
    "df['team_role'] = df['team'] + ' - ' + df['finalposition']\n",
    "#df.loc[pd.isnull(df.win) == True]"
   ]
  },
  {
   "cell_type": "code",
   "execution_count": 23,
   "metadata": {},
   "outputs": [],
   "source": [
    "# AQUI ESTÁ SENDO CONSERTADO ALGUMAS FALHAS DO REALIZADO ACIMA\n",
    "df.team_role.unique()\n",
    "\n",
    "remove_index = []\n",
    "for i in ('1 - JUNGLE', '1 - DUO_SUPPORT', '1 - DUO_CARRY', '1 - TOP',\n",
    "       '1 - MID', '2 - JUNGLE', '2 - TOP', '2 - MID', '2 - DUO_CARRY',\n",
    "       '2 - DUO_SUPPORT'):\n",
    "    df_remove = df[df['team_role'] == i].groupby('matchid').agg({'team_role':'count'})\n",
    "    remove_index.extend(df_remove[df_remove['team_role'] != 1].index.values)"
   ]
  },
  {
   "cell_type": "code",
   "execution_count": 24,
   "metadata": {},
   "outputs": [
    {
     "name": "stdout",
     "output_type": "stream",
     "text": [
      "# Partidas no dataset antes da limpeza: 184069\n",
      "# Partidas no dataset depois da limpeza: 148638\n"
     ]
    }
   ],
   "source": [
    "remove_index.extend(df[df['finalposition'] == 'BOT']['matchid'].unique())\n",
    "remove_index = list(set(remove_index))\n",
    "df.dropna(inplace=True)\n",
    "\n",
    "print('# Partidas no dataset antes da limpeza: {}'.format(df['matchid'].nunique()))\n",
    "df = df[~df['matchid'].isin(remove_index)]\n",
    "print('# Partidas no dataset depois da limpeza: {}'.format(df['matchid'].nunique()))"
   ]
  },
  {
   "cell_type": "code",
   "execution_count": 25,
   "metadata": {},
   "outputs": [],
   "source": [
    "# UNINDO A ÚLTIMA TABELA QUE FALTA (Temos que mudar o tipo de object to float64)\n",
    "df.team = df.team.astype(np.float64)\n",
    "df = pd.merge(df, tstats, how = 'left', left_on = ['team', 'matchid'], right_on = ['teamid', 'matchid'], suffixes=('', '_y'))\n",
    "df.firstbaron = df.firstbaron.astype(np.uint8)\n",
    "df.firstblood = df.firstblood.astype(np.uint8)\n",
    "df.firstdragon = df.firstdragon.astype(np.uint8)\n",
    "df.firstharry = df.firstharry.astype(np.uint8)\n",
    "df.firstinhib = df.firstinhib.astype(np.uint8)\n",
    "df.firsttower = df.firsttower.astype(np.uint8)\n",
    "df.win = df.win.astype(np.uint8)\n",
    "#df.kills.describe()\n",
    "#df['kills'] = df['kills'].apply(lambda x: x if x<16 else 16)\n",
    "#df['kills'] = df['kills'].apply(lambda x: x if x>0 else 0)"
   ]
  },
  {
   "cell_type": "markdown",
   "metadata": {},
   "source": [
    "# 7. Escolha / Remoção das feautres\n",
    "* Os ids repetidos (id_y), queueid, item (1 a 6), trinket, foram retirados\n",
    "    * Item (1 a 6) foi retirado, pois os itens são sempre atualizados a cada versão, atrapalhando as análises\n",
    "    * trinket foi retirado, mesmo caso do item\n",
    "* sequência de \"kills\" não serão utilizados, pois não decidem diretamente o destino do jogo, existirá milhares de casos que um time com várias sequências de kills não ganha, são: 'largestkillingspree', 'largestmultikill', 'killingsprees', 'longesttimespentliving', 'legendarykills', 'creation'\n",
    "* finalposition foi divido em 5 features"
   ]
  },
  {
   "cell_type": "code",
   "execution_count": 26,
   "metadata": {},
   "outputs": [
    {
     "data": {
      "text/plain": [
       "array(['id', 'matchid', 'player', 'championid', 'ss1', 'ss2', 'role',\n",
       "       'position', 'win', 'item1', 'item2', 'item3', 'item4', 'item5',\n",
       "       'item6', 'trinket', 'kills', 'deaths', 'assists',\n",
       "       'largestkillingspree', 'largestmultikill', 'killingsprees',\n",
       "       'longesttimespentliving', 'doublekills', 'triplekills',\n",
       "       'quadrakills', 'pentakills', 'legendarykills', 'totdmgdealt',\n",
       "       'magicdmgdealt', 'physicaldmgdealt', 'truedmgdealt', 'largestcrit',\n",
       "       'totdmgtochamp', 'magicdmgtochamp', 'physdmgtochamp',\n",
       "       'truedmgtochamp', 'totheal', 'totunitshealed', 'dmgselfmit',\n",
       "       'dmgtoobj', 'dmgtoturrets', 'visionscore', 'timecc', 'totdmgtaken',\n",
       "       'magicdmgtaken', 'physdmgtaken', 'truedmgtaken', 'goldearned',\n",
       "       'goldspent', 'turretkills', 'inhibkills', 'totminionskilled',\n",
       "       'neutralminionskilled', 'ownjunglekills', 'enemyjunglekills',\n",
       "       'totcctimedealt', 'champlvl', 'pinksbought', 'wardsbought',\n",
       "       'wardsplaced', 'wardskilled', 'firstblood', 'name', 'id_champ',\n",
       "       'id_y', 'gameid', 'platformid', 'queueid', 'seasonid', 'duration',\n",
       "       'creation', 'version', 'finalposition', 'team', 'team_role',\n",
       "       'teamid', 'firstblood_y', 'firsttower', 'firstinhib', 'firstbaron',\n",
       "       'firstdragon', 'firstharry', 'towerkills', 'inhibkills_y',\n",
       "       'baronkills', 'dragonkills', 'harrykills'], dtype=object)"
      ]
     },
     "execution_count": 26,
     "metadata": {},
     "output_type": "execute_result"
    }
   ],
   "source": [
    "df.columns.values"
   ]
  },
  {
   "cell_type": "code",
   "execution_count": 27,
   "metadata": {},
   "outputs": [],
   "source": [
    "df = df[['id', 'matchid', 'player', 'championid', 'ss1', 'ss2', 'finalposition', 'team',\n",
    "       'win', 'kills', 'deaths', 'assists', 'doublekills', 'triplekills','quadrakills', 'pentakills',\n",
    "        'totdmgdealt', 'magicdmgdealt', 'physicaldmgdealt', 'truedmgdealt', 'largestcrit',\n",
    "       'totdmgtochamp', 'magicdmgtochamp', 'physdmgtochamp',\n",
    "       'truedmgtochamp', 'totheal', 'totunitshealed', 'dmgselfmit',\n",
    "       'dmgtoobj', 'dmgtoturrets', 'visionscore', 'timecc', 'totdmgtaken',\n",
    "       'magicdmgtaken', 'physdmgtaken', 'truedmgtaken', 'goldearned',\n",
    "       'goldspent',  'turretkills', 'inhibkills', 'totminionskilled',\n",
    "       'neutralminionskilled', 'ownjunglekills', 'enemyjunglekills',\n",
    "       'totcctimedealt', 'champlvl', 'pinksbought', 'wardsbought',\n",
    "       'wardsplaced', 'wardskilled', 'firstblood', 'name',\n",
    "       'gameid', 'seasonid', 'duration', 'version', 'firsttower', 'firstinhib', 'firstbaron',\n",
    "       'firstdragon', 'firstharry', 'towerkills','baronkills', 'dragonkills', 'harrykills']]"
   ]
  },
  {
   "cell_type": "code",
   "execution_count": 28,
   "metadata": {},
   "outputs": [],
   "source": [
    "new = pd.get_dummies(df[['finalposition']])\n",
    "df = pd.concat([df, new], axis=1)\n",
    "df = df.drop(['finalposition'], axis=1)"
   ]
  },
  {
   "cell_type": "code",
   "execution_count": 29,
   "metadata": {},
   "outputs": [
    {
     "data": {
      "text/html": [
       "<div>\n",
       "<style scoped>\n",
       "    .dataframe tbody tr th:only-of-type {\n",
       "        vertical-align: middle;\n",
       "    }\n",
       "\n",
       "    .dataframe tbody tr th {\n",
       "        vertical-align: top;\n",
       "    }\n",
       "\n",
       "    .dataframe thead th {\n",
       "        text-align: right;\n",
       "    }\n",
       "</style>\n",
       "<table border=\"1\" class=\"dataframe\">\n",
       "  <thead>\n",
       "    <tr style=\"text-align: right;\">\n",
       "      <th></th>\n",
       "      <th>id</th>\n",
       "      <th>matchid</th>\n",
       "      <th>player</th>\n",
       "      <th>championid</th>\n",
       "      <th>ss1</th>\n",
       "      <th>ss2</th>\n",
       "      <th>team</th>\n",
       "      <th>win</th>\n",
       "      <th>kills</th>\n",
       "      <th>deaths</th>\n",
       "      <th>...</th>\n",
       "      <th>firstharry</th>\n",
       "      <th>towerkills</th>\n",
       "      <th>baronkills</th>\n",
       "      <th>dragonkills</th>\n",
       "      <th>harrykills</th>\n",
       "      <th>finalposition_DUO_CARRY</th>\n",
       "      <th>finalposition_DUO_SUPPORT</th>\n",
       "      <th>finalposition_JUNGLE</th>\n",
       "      <th>finalposition_MID</th>\n",
       "      <th>finalposition_TOP</th>\n",
       "    </tr>\n",
       "  </thead>\n",
       "  <tbody>\n",
       "    <tr>\n",
       "      <th>0</th>\n",
       "      <td>9</td>\n",
       "      <td>10</td>\n",
       "      <td>1</td>\n",
       "      <td>19</td>\n",
       "      <td>4</td>\n",
       "      <td>11</td>\n",
       "      <td>1.0</td>\n",
       "      <td>0</td>\n",
       "      <td>6.0</td>\n",
       "      <td>10.0</td>\n",
       "      <td>...</td>\n",
       "      <td>0</td>\n",
       "      <td>5</td>\n",
       "      <td>0</td>\n",
       "      <td>0</td>\n",
       "      <td>0</td>\n",
       "      <td>0</td>\n",
       "      <td>0</td>\n",
       "      <td>1</td>\n",
       "      <td>0</td>\n",
       "      <td>0</td>\n",
       "    </tr>\n",
       "    <tr>\n",
       "      <th>1</th>\n",
       "      <td>10</td>\n",
       "      <td>10</td>\n",
       "      <td>2</td>\n",
       "      <td>267</td>\n",
       "      <td>3</td>\n",
       "      <td>4</td>\n",
       "      <td>1.0</td>\n",
       "      <td>0</td>\n",
       "      <td>0.0</td>\n",
       "      <td>2.0</td>\n",
       "      <td>...</td>\n",
       "      <td>0</td>\n",
       "      <td>5</td>\n",
       "      <td>0</td>\n",
       "      <td>0</td>\n",
       "      <td>0</td>\n",
       "      <td>0</td>\n",
       "      <td>1</td>\n",
       "      <td>0</td>\n",
       "      <td>0</td>\n",
       "      <td>0</td>\n",
       "    </tr>\n",
       "    <tr>\n",
       "      <th>2</th>\n",
       "      <td>11</td>\n",
       "      <td>10</td>\n",
       "      <td>3</td>\n",
       "      <td>119</td>\n",
       "      <td>7</td>\n",
       "      <td>4</td>\n",
       "      <td>1.0</td>\n",
       "      <td>0</td>\n",
       "      <td>7.0</td>\n",
       "      <td>8.0</td>\n",
       "      <td>...</td>\n",
       "      <td>0</td>\n",
       "      <td>5</td>\n",
       "      <td>0</td>\n",
       "      <td>0</td>\n",
       "      <td>0</td>\n",
       "      <td>1</td>\n",
       "      <td>0</td>\n",
       "      <td>0</td>\n",
       "      <td>0</td>\n",
       "      <td>0</td>\n",
       "    </tr>\n",
       "    <tr>\n",
       "      <th>3</th>\n",
       "      <td>12</td>\n",
       "      <td>10</td>\n",
       "      <td>4</td>\n",
       "      <td>114</td>\n",
       "      <td>12</td>\n",
       "      <td>4</td>\n",
       "      <td>1.0</td>\n",
       "      <td>0</td>\n",
       "      <td>5.0</td>\n",
       "      <td>11.0</td>\n",
       "      <td>...</td>\n",
       "      <td>0</td>\n",
       "      <td>5</td>\n",
       "      <td>0</td>\n",
       "      <td>0</td>\n",
       "      <td>0</td>\n",
       "      <td>0</td>\n",
       "      <td>0</td>\n",
       "      <td>0</td>\n",
       "      <td>0</td>\n",
       "      <td>1</td>\n",
       "    </tr>\n",
       "    <tr>\n",
       "      <th>4</th>\n",
       "      <td>13</td>\n",
       "      <td>10</td>\n",
       "      <td>5</td>\n",
       "      <td>112</td>\n",
       "      <td>4</td>\n",
       "      <td>3</td>\n",
       "      <td>1.0</td>\n",
       "      <td>0</td>\n",
       "      <td>2.0</td>\n",
       "      <td>8.0</td>\n",
       "      <td>...</td>\n",
       "      <td>0</td>\n",
       "      <td>5</td>\n",
       "      <td>0</td>\n",
       "      <td>0</td>\n",
       "      <td>0</td>\n",
       "      <td>0</td>\n",
       "      <td>0</td>\n",
       "      <td>0</td>\n",
       "      <td>1</td>\n",
       "      <td>0</td>\n",
       "    </tr>\n",
       "  </tbody>\n",
       "</table>\n",
       "<p>5 rows × 69 columns</p>\n",
       "</div>"
      ],
      "text/plain": [
       "   id  matchid  player  championid  ss1  ss2  team  win  kills  deaths  \\\n",
       "0   9       10       1          19    4   11   1.0    0    6.0    10.0   \n",
       "1  10       10       2         267    3    4   1.0    0    0.0     2.0   \n",
       "2  11       10       3         119    7    4   1.0    0    7.0     8.0   \n",
       "3  12       10       4         114   12    4   1.0    0    5.0    11.0   \n",
       "4  13       10       5         112    4    3   1.0    0    2.0     8.0   \n",
       "\n",
       "         ...          firstharry  towerkills  baronkills  dragonkills  \\\n",
       "0        ...                   0           5           0            0   \n",
       "1        ...                   0           5           0            0   \n",
       "2        ...                   0           5           0            0   \n",
       "3        ...                   0           5           0            0   \n",
       "4        ...                   0           5           0            0   \n",
       "\n",
       "   harrykills  finalposition_DUO_CARRY  finalposition_DUO_SUPPORT  \\\n",
       "0           0                        0                          0   \n",
       "1           0                        0                          1   \n",
       "2           0                        1                          0   \n",
       "3           0                        0                          0   \n",
       "4           0                        0                          0   \n",
       "\n",
       "   finalposition_JUNGLE  finalposition_MID  finalposition_TOP  \n",
       "0                     1                  0                  0  \n",
       "1                     0                  0                  0  \n",
       "2                     0                  0                  0  \n",
       "3                     0                  0                  1  \n",
       "4                     0                  1                  0  \n",
       "\n",
       "[5 rows x 69 columns]"
      ]
     },
     "execution_count": 29,
     "metadata": {},
     "output_type": "execute_result"
    }
   ],
   "source": [
    "df.head()"
   ]
  },
  {
   "cell_type": "markdown",
   "metadata": {},
   "source": [
    "# 8. Correlação\n",
    "* Através de uma análise inicial das correlações, foram removidos aqueles inicias que possuem uma correlação com o rótulo menor que 0.10\n",
    "\n",
    "Removidos: ['truedmgtochamp', 'ss1', 'ss2', 'totdmgdealt',  'truedmgdealt', 'team', 'firstblood', \n",
    "            'totdmgtaken', 'magicdmgtaken', 'physdmgtaken', 'truedmgtaken', 'triplekills', 'quadrakills', \n",
    "             'pentakills', 'magicdmgdealt','physicaldmgdealt','totcctimedealt', 'magicdmgtochamp', 'physdmgtochamp', 'visionscore', 'pinksbought', 'wardsplaced', 'wardskilled', 'duration', 'totminionskilled', 'championid']\n",
    "             \n",
    "* Algo notável nesse ponto, foi que, no jogo, a visão é um fator essência destacado, mas percebemos que sua correlação é muito baixa com o nosso rótulo"
   ]
  },
  {
   "cell_type": "code",
   "execution_count": 30,
   "metadata": {},
   "outputs": [],
   "source": [
    "df_c = df[['win', 'kills', 'deaths', 'assists', 'doublekills' ,'totdmgtochamp','totheal', 'totminionskilled',\n",
    " 'goldearned', 'goldspent', 'totdmgtaken', 'turretkills', 'inhibkills',\n",
    " 'champlvl', 'firsttower', 'firstinhib', 'firstbaron', 'firstdragon', 'firstharry', 'towerkills',\n",
    " 'baronkills', 'dragonkills', 'harrykills','duration', 'finalposition_DUO_CARRY', 'finalposition_DUO_SUPPORT', 'finalposition_JUNGLE',\n",
    " 'finalposition_MID', 'finalposition_TOP']]"
   ]
  },
  {
   "cell_type": "code",
   "execution_count": 31,
   "metadata": {},
   "outputs": [
    {
     "data": {
      "text/plain": [
       "Text(0.5,1,'Correlação - win e features')"
      ]
     },
     "execution_count": 31,
     "metadata": {},
     "output_type": "execute_result"
    },
    {
     "data": {
      "image/png": "[encoded data removed]",
      "text/plain": [
       "<Figure size 1296x864 with 2 Axes>"
      ]
     },
     "metadata": {},
     "output_type": "display_data"
    }
   ],
   "source": [
    "df_corr = df_c._get_numeric_data()\n",
    "df_corr = df_corr.drop(['finalposition_DUO_CARRY', 'finalposition_DUO_SUPPORT', 'finalposition_JUNGLE',\n",
    " 'finalposition_MID', 'finalposition_TOP'], axis = 1)\n",
    "\n",
    "mask = np.zeros_like(df_corr.corr(), dtype=np.bool)\n",
    "mask[np.triu_indices_from(mask)] = True\n",
    "cmap = sns.diverging_palette(10, 150, as_cmap=True)\n",
    "\n",
    "plt.figure(figsize = (18,12))\n",
    "sns.heatmap(df_corr.corr(), cmap = cmap, annot = True, fmt = '.2f', mask = mask, square=True, linewidths=.5, center = 0)\n",
    "plt.title('Correlação - win e features')"
   ]
  },
  {
   "cell_type": "markdown",
   "metadata": {},
   "source": [
    "# 9. Iniciando Classificação dos dados com grupo de 50000 tuplas\n",
    "### As 28 Features Escolhidas:\n",
    "* kills, deaths, assists, doublekills ,totdmgtochamp,totheal, totminionskilled, goldearned, goldspent, totdmgtaken, turretkills, inhibkills, champlvl, firsttower, firstinhib, firstbaron, firstdragon, firstharry, towerkills, baronkills, dragonkills, harrykills,duration, finalposition_DUO_CARRY, finalposition_DUO_SUPPORT, finalposition_JUNGLE, finalposition_MID, finalposition_TOP\n",
    "\n",
    "### Técnicas Escolhidas:\n",
    "* KNeighborsClassifier\n",
    "* BernoulliNB\n",
    "* GradientBoostingClassifier\n",
    "* RandomForestClassifier\n",
    "* LogisticRegression\n",
    "* SVC\n",
    "* DecisionTreeClassifier\n",
    "\n",
    "### Métricas de Avaliação Escolhidas:\n",
    "* Accuracy\n",
    "* Precision\n",
    "* Recall\n",
    "* F1"
   ]
  },
  {
   "cell_type": "code",
   "execution_count": 32,
   "metadata": {},
   "outputs": [],
   "source": [
    "temp = df.head(50000)"
   ]
  },
  {
   "cell_type": "code",
   "execution_count": 33,
   "metadata": {},
   "outputs": [],
   "source": [
    "X = temp[['kills', 'deaths', 'assists', 'doublekills' ,'totdmgtochamp','totheal', 'totminionskilled',\n",
    " 'goldearned', 'goldspent', 'totdmgtaken', 'turretkills', 'inhibkills',\n",
    " 'champlvl', 'firsttower', 'firstinhib', 'firstbaron', 'firstdragon', 'firstharry', 'towerkills',\n",
    " 'baronkills', 'dragonkills', 'harrykills','duration', 'finalposition_DUO_CARRY', 'finalposition_DUO_SUPPORT', 'finalposition_JUNGLE',\n",
    " 'finalposition_MID', 'finalposition_TOP']]\n",
    "\n",
    "y = temp['win']"
   ]
  },
  {
   "cell_type": "code",
   "execution_count": 34,
   "metadata": {},
   "outputs": [
    {
     "data": {
      "text/html": [
       "<div>\n",
       "<style scoped>\n",
       "    .dataframe tbody tr th:only-of-type {\n",
       "        vertical-align: middle;\n",
       "    }\n",
       "\n",
       "    .dataframe tbody tr th {\n",
       "        vertical-align: top;\n",
       "    }\n",
       "\n",
       "    .dataframe thead th {\n",
       "        text-align: right;\n",
       "    }\n",
       "</style>\n",
       "<table border=\"1\" class=\"dataframe\">\n",
       "  <thead>\n",
       "    <tr style=\"text-align: right;\">\n",
       "      <th></th>\n",
       "      <th>kills</th>\n",
       "      <th>deaths</th>\n",
       "      <th>assists</th>\n",
       "      <th>doublekills</th>\n",
       "      <th>totdmgtochamp</th>\n",
       "      <th>totheal</th>\n",
       "      <th>totminionskilled</th>\n",
       "      <th>goldearned</th>\n",
       "      <th>goldspent</th>\n",
       "      <th>totdmgtaken</th>\n",
       "      <th>...</th>\n",
       "      <th>towerkills</th>\n",
       "      <th>baronkills</th>\n",
       "      <th>dragonkills</th>\n",
       "      <th>harrykills</th>\n",
       "      <th>duration</th>\n",
       "      <th>finalposition_DUO_CARRY</th>\n",
       "      <th>finalposition_DUO_SUPPORT</th>\n",
       "      <th>finalposition_JUNGLE</th>\n",
       "      <th>finalposition_MID</th>\n",
       "      <th>finalposition_TOP</th>\n",
       "    </tr>\n",
       "  </thead>\n",
       "  <tbody>\n",
       "    <tr>\n",
       "      <th>0</th>\n",
       "      <td>6.0</td>\n",
       "      <td>10.0</td>\n",
       "      <td>1.0</td>\n",
       "      <td>2.0</td>\n",
       "      <td>9101.0</td>\n",
       "      <td>15160.0</td>\n",
       "      <td>42.0</td>\n",
       "      <td>10497.0</td>\n",
       "      <td>10275.0</td>\n",
       "      <td>41446.0</td>\n",
       "      <td>...</td>\n",
       "      <td>5</td>\n",
       "      <td>0</td>\n",
       "      <td>0</td>\n",
       "      <td>0</td>\n",
       "      <td>1909</td>\n",
       "      <td>0</td>\n",
       "      <td>0</td>\n",
       "      <td>1</td>\n",
       "      <td>0</td>\n",
       "      <td>0</td>\n",
       "    </tr>\n",
       "    <tr>\n",
       "      <th>1</th>\n",
       "      <td>0.0</td>\n",
       "      <td>2.0</td>\n",
       "      <td>12.0</td>\n",
       "      <td>0.0</td>\n",
       "      <td>8478.0</td>\n",
       "      <td>11707.0</td>\n",
       "      <td>17.0</td>\n",
       "      <td>9496.0</td>\n",
       "      <td>7975.0</td>\n",
       "      <td>17769.0</td>\n",
       "      <td>...</td>\n",
       "      <td>5</td>\n",
       "      <td>0</td>\n",
       "      <td>0</td>\n",
       "      <td>0</td>\n",
       "      <td>1909</td>\n",
       "      <td>0</td>\n",
       "      <td>1</td>\n",
       "      <td>0</td>\n",
       "      <td>0</td>\n",
       "      <td>0</td>\n",
       "    </tr>\n",
       "    <tr>\n",
       "      <th>2</th>\n",
       "      <td>7.0</td>\n",
       "      <td>8.0</td>\n",
       "      <td>5.0</td>\n",
       "      <td>2.0</td>\n",
       "      <td>14425.0</td>\n",
       "      <td>2283.0</td>\n",
       "      <td>205.0</td>\n",
       "      <td>13136.0</td>\n",
       "      <td>11775.0</td>\n",
       "      <td>25627.0</td>\n",
       "      <td>...</td>\n",
       "      <td>5</td>\n",
       "      <td>0</td>\n",
       "      <td>0</td>\n",
       "      <td>0</td>\n",
       "      <td>1909</td>\n",
       "      <td>1</td>\n",
       "      <td>0</td>\n",
       "      <td>0</td>\n",
       "      <td>0</td>\n",
       "      <td>0</td>\n",
       "    </tr>\n",
       "    <tr>\n",
       "      <th>3</th>\n",
       "      <td>5.0</td>\n",
       "      <td>11.0</td>\n",
       "      <td>2.0</td>\n",
       "      <td>0.0</td>\n",
       "      <td>15267.0</td>\n",
       "      <td>4252.0</td>\n",
       "      <td>164.0</td>\n",
       "      <td>11006.0</td>\n",
       "      <td>10683.0</td>\n",
       "      <td>31705.0</td>\n",
       "      <td>...</td>\n",
       "      <td>5</td>\n",
       "      <td>0</td>\n",
       "      <td>0</td>\n",
       "      <td>0</td>\n",
       "      <td>1909</td>\n",
       "      <td>0</td>\n",
       "      <td>0</td>\n",
       "      <td>0</td>\n",
       "      <td>0</td>\n",
       "      <td>1</td>\n",
       "    </tr>\n",
       "    <tr>\n",
       "      <th>4</th>\n",
       "      <td>2.0</td>\n",
       "      <td>8.0</td>\n",
       "      <td>2.0</td>\n",
       "      <td>0.0</td>\n",
       "      <td>18229.0</td>\n",
       "      <td>1525.0</td>\n",
       "      <td>235.0</td>\n",
       "      <td>11439.0</td>\n",
       "      <td>10485.0</td>\n",
       "      <td>20585.0</td>\n",
       "      <td>...</td>\n",
       "      <td>5</td>\n",
       "      <td>0</td>\n",
       "      <td>0</td>\n",
       "      <td>0</td>\n",
       "      <td>1909</td>\n",
       "      <td>0</td>\n",
       "      <td>0</td>\n",
       "      <td>0</td>\n",
       "      <td>1</td>\n",
       "      <td>0</td>\n",
       "    </tr>\n",
       "  </tbody>\n",
       "</table>\n",
       "<p>5 rows × 28 columns</p>\n",
       "</div>"
      ],
      "text/plain": [
       "   kills  deaths  assists  doublekills  totdmgtochamp  totheal  \\\n",
       "0    6.0    10.0      1.0          2.0         9101.0  15160.0   \n",
       "1    0.0     2.0     12.0          0.0         8478.0  11707.0   \n",
       "2    7.0     8.0      5.0          2.0        14425.0   2283.0   \n",
       "3    5.0    11.0      2.0          0.0        15267.0   4252.0   \n",
       "4    2.0     8.0      2.0          0.0        18229.0   1525.0   \n",
       "\n",
       "   totminionskilled  goldearned  goldspent  totdmgtaken        ...          \\\n",
       "0              42.0     10497.0    10275.0      41446.0        ...           \n",
       "1              17.0      9496.0     7975.0      17769.0        ...           \n",
       "2             205.0     13136.0    11775.0      25627.0        ...           \n",
       "3             164.0     11006.0    10683.0      31705.0        ...           \n",
       "4             235.0     11439.0    10485.0      20585.0        ...           \n",
       "\n",
       "   towerkills  baronkills  dragonkills  harrykills  duration  \\\n",
       "0           5           0            0           0      1909   \n",
       "1           5           0            0           0      1909   \n",
       "2           5           0            0           0      1909   \n",
       "3           5           0            0           0      1909   \n",
       "4           5           0            0           0      1909   \n",
       "\n",
       "   finalposition_DUO_CARRY  finalposition_DUO_SUPPORT  finalposition_JUNGLE  \\\n",
       "0                        0                          0                     1   \n",
       "1                        0                          1                     0   \n",
       "2                        1                          0                     0   \n",
       "3                        0                          0                     0   \n",
       "4                        0                          0                     0   \n",
       "\n",
       "   finalposition_MID  finalposition_TOP  \n",
       "0                  0                  0  \n",
       "1                  0                  0  \n",
       "2                  0                  0  \n",
       "3                  0                  1  \n",
       "4                  1                  0  \n",
       "\n",
       "[5 rows x 28 columns]"
      ]
     },
     "execution_count": 34,
     "metadata": {},
     "output_type": "execute_result"
    }
   ],
   "source": [
    "X.head()"
   ]
  },
  {
   "cell_type": "code",
   "execution_count": 35,
   "metadata": {},
   "outputs": [],
   "source": [
    "X_train, X_test, y_train, y_test = train_test_split(X, y, stratify=y, test_size=0.30, random_state=42)"
   ]
  },
  {
   "cell_type": "code",
   "execution_count": 36,
   "metadata": {},
   "outputs": [],
   "source": [
    "#KNeighborsClassifier\n",
    "model_KNN = KNeighborsClassifier(n_neighbors=25)\n",
    "model_KNN.fit(X_train, y_train)\n",
    "y_pred_KNN = model_KNN.predict(X_test)\n",
    "\n",
    "#BernoulliNB\n",
    "model_BNB = BernoulliNB()\n",
    "model_BNB.fit(X_train, y_train)\n",
    "y_pred_BNB = model_BNB.predict(X_test)\n",
    "\n",
    "#GradientBoostingClassifier\n",
    "model_GBC = GradientBoostingClassifier(n_estimators=50, max_depth=10, learning_rate=0.1, random_state=0)\n",
    "model_GBC.fit(X_train, y_train)\n",
    "y_pred_GBC = model_GBC.predict(X_test)\n",
    "\n",
    "#RandomForestClassifier\n",
    "model_RFC = RandomForestClassifier(n_estimators=100, max_depth=10, random_state=0)\n",
    "model_RFC.fit(X_train, y_train)\n",
    "y_pred_RFC = model_RFC.predict(X_test)\n",
    "\n",
    "#LogisticRegression\n",
    "model_LR = LogisticRegression()\n",
    "model_LR.fit(X_train, y_train)\n",
    "y_pred_LR = model_LR.predict(X_test)\n",
    "\n",
    "#DecisionTreeClassifier\n",
    "model_DTC = DecisionTreeClassifier()\n",
    "model_DTC.fit(X_train, y_train)\n",
    "y_pred_DTC = model_DTC.predict(X_test)"
   ]
  },
  {
   "cell_type": "code",
   "execution_count": 37,
   "metadata": {
    "scrolled": false
   },
   "outputs": [
    {
     "name": "stdout",
     "output_type": "stream",
     "text": [
      "Accuracy: \n",
      "KNeighborsClassifier: 0.7618666666666667\n",
      "BernoulliNB: 0.8809333333333333\n",
      "GradientBoostingClassifier: 0.9721333333333333\n",
      "RandomForestClassifier: 0.9635333333333334\n",
      "LogisticRegression: 0.9596\n",
      "DecisionTreeClassifier: 0.9548\n",
      "\n",
      "\n",
      "Precision: \n",
      "KNeighborsClassifier: 0.7575399947547863\n",
      "BernoulliNB: 0.865532241555783\n",
      "GradientBoostingClassifier: 0.9667809122066966\n",
      "RandomForestClassifier: 0.94898618106677\n",
      "LogisticRegression: 0.9561937533086289\n",
      "DecisionTreeClassifier: 0.9571160546770303\n",
      "\n",
      "\n",
      "Recall: \n",
      "KNeighborsClassifier: 0.7702666666666667\n",
      "BernoulliNB: 0.902\n",
      "GradientBoostingClassifier: 0.9778666666666667\n",
      "RandomForestClassifier: 0.9797333333333333\n",
      "LogisticRegression: 0.9633333333333334\n",
      "DecisionTreeClassifier: 0.9522666666666667\n",
      "\n",
      "\n",
      "F1: \n",
      "KNeighborsClassifier: 0.7638503239455243\n",
      "BernoulliNB: 0.8833899190389135\n",
      "GradientBoostingClassifier: 0.9722921914357683\n",
      "RandomForestClassifier: 0.9641146755887948\n",
      "LogisticRegression: 0.959750265674814\n",
      "DecisionTreeClassifier: 0.954685202513033\n"
     ]
    }
   ],
   "source": [
    "print('Accuracy: ')\n",
    "print('KNeighborsClassifier: {}'.format(metrics.accuracy_score(y_test, y_pred_KNN)))\n",
    "print('BernoulliNB: {}'.format(metrics.accuracy_score(y_test, y_pred_BNB)))\n",
    "print('GradientBoostingClassifier: {}'.format(metrics.accuracy_score(y_test, y_pred_GBC)))\n",
    "print('RandomForestClassifier: {}'.format(metrics.accuracy_score(y_test, y_pred_RFC)))\n",
    "print('LogisticRegression: {}'.format(metrics.accuracy_score(y_test, y_pred_LR)))\n",
    "print('DecisionTreeClassifier: {}'.format(metrics.accuracy_score(y_test, y_pred_DTC)))\n",
    "\n",
    "\n",
    "print('\\n\\nPrecision: ')\n",
    "print('KNeighborsClassifier: {}'.format(metrics.precision_score(y_test, y_pred_KNN)))\n",
    "print('BernoulliNB: {}'.format(metrics.precision_score(y_test, y_pred_BNB)))\n",
    "print('GradientBoostingClassifier: {}'.format(metrics.precision_score(y_test, y_pred_GBC)))\n",
    "print('RandomForestClassifier: {}'.format(metrics.precision_score(y_test, y_pred_RFC)))\n",
    "print('LogisticRegression: {}'.format(metrics.precision_score(y_test, y_pred_LR)))\n",
    "print('DecisionTreeClassifier: {}'.format(metrics.precision_score(y_test, y_pred_DTC)))\n",
    "\n",
    "\n",
    "print('\\n\\nRecall: ')\n",
    "print('KNeighborsClassifier: {}'.format(metrics.recall_score(y_test, y_pred_KNN)))\n",
    "print('BernoulliNB: {}'.format(metrics.recall_score(y_test, y_pred_BNB)))\n",
    "print('GradientBoostingClassifier: {}'.format(metrics.recall_score(y_test, y_pred_GBC)))\n",
    "print('RandomForestClassifier: {}'.format(metrics.recall_score(y_test, y_pred_RFC)))\n",
    "print('LogisticRegression: {}'.format(metrics.recall_score(y_test, y_pred_LR)))\n",
    "print('DecisionTreeClassifier: {}'.format(metrics.recall_score(y_test, y_pred_DTC)))\n",
    "\n",
    "\n",
    "print('\\n\\nF1: ')\n",
    "print('KNeighborsClassifier: {}'.format(metrics.f1_score(y_test, y_pred_KNN)))\n",
    "print('BernoulliNB: {}'.format(metrics.f1_score(y_test, y_pred_BNB)))\n",
    "print('GradientBoostingClassifier: {}'.format(metrics.f1_score(y_test, y_pred_GBC)))\n",
    "print('RandomForestClassifier: {}'.format(metrics.f1_score(y_test, y_pred_RFC)))\n",
    "print('LogisticRegression: {}'.format(metrics.f1_score(y_test, y_pred_LR)))\n",
    "print('DecisionTreeClassifier: {}'.format(metrics.f1_score(y_test, y_pred_DTC)))"
   ]
  },
  {
   "cell_type": "code",
   "execution_count": 42,
   "metadata": {},
   "outputs": [
    {
     "data": {
      "text/plain": [
       "array([0.01777947, 0.04655727, 0.02782237, 0.00603397, 0.02557377,\n",
       "       0.02861124, 0.01838528, 0.03931427, 0.04947004, 0.03785682,\n",
       "       0.00688371, 0.00330567, 0.01240932, 0.00938788, 0.01001072,\n",
       "       0.00675699, 0.00598071, 0.00419974, 0.44289449, 0.01659197,\n",
       "       0.02538619, 0.00254994, 0.1494718 , 0.00172113, 0.00123603,\n",
       "       0.00059171, 0.00124879, 0.0019687 ])"
      ]
     },
     "execution_count": 42,
     "metadata": {},
     "output_type": "execute_result"
    }
   ],
   "source": [
    "# A feature mais importante é a 'towerkills'\n",
    "model_GBC.feature_importances_"
   ]
  },
  {
   "cell_type": "markdown",
   "metadata": {},
   "source": [
    "# 10. Modelo Final usando o GradientBoostingClassifier"
   ]
  },
  {
   "cell_type": "code",
   "execution_count": 38,
   "metadata": {},
   "outputs": [],
   "source": [
    "X = df[['kills', 'deaths', 'assists', 'doublekills' ,'totdmgtochamp','totheal', 'totminionskilled',\n",
    " 'goldearned', 'goldspent', 'totdmgtaken', 'turretkills', 'inhibkills',\n",
    " 'champlvl', 'firsttower', 'firstinhib', 'firstbaron', 'firstdragon', 'firstharry', 'towerkills',\n",
    " 'baronkills', 'dragonkills', 'harrykills','duration', 'finalposition_DUO_CARRY', 'finalposition_DUO_SUPPORT', 'finalposition_JUNGLE',\n",
    " 'finalposition_MID', 'finalposition_TOP']]\n",
    "\n",
    "y = df['win']"
   ]
  },
  {
   "cell_type": "code",
   "execution_count": 41,
   "metadata": {},
   "outputs": [],
   "source": [
    "y_pred = model_GBC.predict(X)"
   ]
  },
  {
   "cell_type": "code",
   "execution_count": 42,
   "metadata": {},
   "outputs": [
    {
     "name": "stdout",
     "output_type": "stream",
     "text": [
      "Accuracy: \n",
      "GradientBoostingClassifier: 0.9587791374762087\n",
      "\n",
      "Precision: \n",
      "GradientBoostingClassifier: 0.9431774165455675\n",
      "\n",
      "Recall: \n",
      "GradientBoostingClassifier: 0.9763811948400049\n",
      "\n",
      "F1: \n",
      "GradientBoostingClassifier: 0.9594921326712158\n"
     ]
    }
   ],
   "source": [
    "print('Accuracy: ')\n",
    "print('GradientBoostingClassifier: {}'.format(metrics.accuracy_score(y, y_pred)))\n",
    "\n",
    "print('\\nPrecision: ')\n",
    "print('GradientBoostingClassifier: {}'.format(metrics.precision_score(y, y_pred)))\n",
    "\n",
    "print('\\nRecall: ')\n",
    "print('GradientBoostingClassifier: {}'.format(metrics.recall_score(y, y_pred)))\n",
    "\n",
    "print('\\nF1: ')\n",
    "print('GradientBoostingClassifier: {}'.format(metrics.f1_score(y, y_pred)))"
   ]
  },
  {
   "cell_type": "code",
   "execution_count": 43,
   "metadata": {},
   "outputs": [],
   "source": [
    "#GradientBoostingClassifier\n",
    "X_train, X_test, y_train, y_test = train_test_split(X, y, stratify=y, test_size=0.30, random_state=42)\n",
    "model = GradientBoostingClassifier(n_estimators=50, max_depth=10, learning_rate=0.1, random_state=0)\n",
    "model.fit(X_train, y_train)\n",
    "y_pred = model.predict(X_test)"
   ]
  },
  {
   "cell_type": "code",
   "execution_count": 44,
   "metadata": {},
   "outputs": [
    {
     "name": "stdout",
     "output_type": "stream",
     "text": [
      "Accuracy: \n",
      "GradientBoostingClassifier: 0.9690698529741562\n",
      "\n",
      "Precision: \n",
      "GradientBoostingClassifier: 0.963465543984046\n",
      "\n",
      "Recall: \n",
      "GradientBoostingClassifier: 0.9751159431990456\n",
      "\n",
      "F1: \n",
      "GradientBoostingClassifier: 0.9692557355707928\n"
     ]
    }
   ],
   "source": [
    "print('Accuracy: ')\n",
    "print('GradientBoostingClassifier: {}'.format(metrics.accuracy_score(y_test, y_pred)))\n",
    "\n",
    "print('\\nPrecision: ')\n",
    "print('GradientBoostingClassifier: {}'.format(metrics.precision_score(y_test, y_pred)))\n",
    "\n",
    "print('\\nRecall: ')\n",
    "print('GradientBoostingClassifier: {}'.format(metrics.recall_score(y_test, y_pred)))\n",
    "\n",
    "print('\\nF1: ')\n",
    "print('GradientBoostingClassifier: {}'.format(metrics.f1_score(y_test, y_pred)))"
   ]
  },
  {
   "cell_type": "code",
   "execution_count": null,
   "metadata": {},
   "outputs": [],
   "source": [
    "# Modelo Final\n",
    "model_final = GradientBoostingClassifier(n_estimators=50, max_depth=10, learning_rate=0.1, random_state=0)\n",
    "model_final.fit(X, y)"
   ]
  },
  {
   "cell_type": "markdown",
   "metadata": {},
   "source": [
    "# X. Determinando os melhores parâmetros para os modelos"
   ]
  },
  {
   "cell_type": "code",
   "execution_count": null,
   "metadata": {},
   "outputs": [],
   "source": [
    "#Escolhendo o melhor n_neighbors para KNN\n",
    "values = [5, 10, 15, 20, 25, 30]\n",
    "for i in values:\n",
    "    model_KNN = KNeighborsClassifier(n_neighbors=i)\n",
    "    model_KNN.fit(X_train, y_train)\n",
    "    y_pred_KNN = model_KNN.predict(X_test)\n",
    "    print('Accuracy para n_neighbors {} = {}'.format(i, metrics.accuracy_score(y_test, y_pred_KNN)))"
   ]
  },
  {
   "cell_type": "code",
   "execution_count": null,
   "metadata": {},
   "outputs": [],
   "source": [
    "#Escolhendo os melhores parâmetros para GradientBoostingClassifier\n",
    "values_n_estimators = [50, 100, 200]\n",
    "values_learning_rate = [0.1, 0.05, 0.01]\n",
    "values_max_depth = [3, 5, 7, 10]\n",
    "\n",
    "\n",
    "for i in values_n_estimators:\n",
    "    for j in values_max_depth:\n",
    "        for k in values_learning_rate:\n",
    "            accuracy = []\n",
    "            precision = []\n",
    "            recall = []\n",
    "            f1_measure = []\n",
    "\n",
    "\n",
    "            model_GBC = GradientBoostingClassifier(n_estimators=i, max_depth=j, learning_rate=k, random_state=0)\n",
    "            model_GBC.fit(X_train, y_train)\n",
    "            y_pred_GBC = model_GBC.predict(X_test)\n",
    "            accuracy.append(metrics.accuracy_score(y_test, y_pred_GBC))\n",
    "            precision.append(metrics.precision_score(y_test, y_pred_GBC))\n",
    "            recall.append(metrics.recall_score(y_test, y_pred_GBC))\n",
    "            f1_measure.append(metrics.f1_score(y_test, y_pred_GBC))\n",
    "        \n",
    "            print(\"N_estimators \" + str(i) + \" ----- Max_depth \" + str(j) + \" ----- Learning_rate \" + str(k))\n",
    "            print(\"Accuracy: \" + str(np.mean(accuracy)))\n",
    "            print(\"Precision: \" + str(np.mean(precision)))\n",
    "            print(\"Recall: \" + str(np.mean(recall)))\n",
    "            print(\"F1: \" + str(np.mean(f1_measure)))\n",
    "            print(\"\\n ------------------------- \\n\")"
   ]
  },
  {
   "cell_type": "code",
   "execution_count": null,
   "metadata": {},
   "outputs": [],
   "source": [
    "#Escolhendo os melhores parâmetros para RandomForestClassifier\n",
    "values_n_estimators = [50, 100, 200]\n",
    "values_max_depth = [3, 5, 7]\n",
    "\n",
    "\n",
    "for i in values_n_estimators:\n",
    "    for j in values_max_depth:\n",
    "        accuracy = []\n",
    "        precision = []\n",
    "        recall = []\n",
    "        f1_measure = []\n",
    "\n",
    "\n",
    "        model_RFC = RandomForestClassifier(n_estimators=i, max_depth=j, random_state=0)\n",
    "        model_RFC.fit(X_train, y_train)\n",
    "        y_pred_RFC = model_RFC.predict(X_test)\n",
    "        accuracy.append(metrics.accuracy_score(y_test, y_pred_RFC))\n",
    "        precision.append(metrics.precision_score(y_test, y_pred_RFC))\n",
    "        recall.append(metrics.recall_score(y_test, y_pred_RFC))\n",
    "        f1_measure.append(metrics.f1_score(y_test, y_pred_RFC))\n",
    "        \n",
    "        print(\"N_estimators \" + str(i) + \" ----- Max_depth \" + str(j))\n",
    "        print(\"Accuracy: \" + str(np.mean(accuracy)))\n",
    "        print(\"Precision: \" + str(np.mean(precision)))\n",
    "        print(\"Recall: \" + str(np.mean(recall)))\n",
    "        print(\"F1: \" + str(np.mean(f1_measure)))\n",
    "        print(\"\\n ------------------------- \\n\")"
   ]
  },
  {
   "cell_type": "markdown",
   "metadata": {},
   "source": [
    "# X. Visualização Extra"
   ]
  },
  {
   "cell_type": "code",
   "execution_count": 35,
   "metadata": {},
   "outputs": [
    {
     "data": {
      "text/plain": [
       "Text(0.5,1,'Visão Colocada (wardsplaced) pela temporada (seasonid): vitória (win) vs derrota (loss)')"
      ]
     },
     "execution_count": 35,
     "metadata": {},
     "output_type": "execute_result"
    },
    {
     "data": {
      "image/png": "[encoded data removed]",
      "text/plain": [
       "<Figure size 1080x720 with 1 Axes>"
      ]
     },
     "metadata": {},
     "output_type": "display_data"
    }
   ],
   "source": [
    "#df_wards = df.copy()\n",
    "\n",
    "#plt.figure(figsize = (15,10))\n",
    "#sns.barplot(x=\"seasonid\", y=\"wardsplaced\", hue=\"win\", data=df_wards)\n",
    "#plt.title('Wardsplaced by season: win vs loss')\n",
    "\n",
    "\n",
    "\n",
    "\n",
    "# Uma plotagem de violino mostra a distribuição de uma única variável numérica e transmite a densidade da distribuição\n",
    "#baseada em um kernel mais suave que indica a densidade de valores (via largura) do campo numérico\n",
    "#plt.figure(figsize = (15,10))\n",
    "#sns.violinplot(x=\"seasonid\", y=\"wardsplaced\", hue=\"win\", data=df_wards)\n",
    "#plt.title('Wardsplaced by season: win vs loss')\n",
    "\n",
    "\n",
    "\n",
    "#plt.figure(figsize = (15,10))\n",
    "#sns.boxplot(x=\"seasonid\", y=\"wardsplaced\", hue=\"win\", data=df_wards)\n",
    "#plt.title('Wardsplaced by season: win vs loss')\n",
    "\n",
    "\n",
    "\n",
    "# Uma plotagem de violino mostra a distribuição de uma única variável numérica e transmite a densidade da distribuição\n",
    "#baseada em um kernel mais suave que indica a densidade de valores (via largura) do campo numérico\n",
    "# inner : {“box”, “quartile”, “point”, “stick”, None}, optional\n",
    "#plt.figure(figsize = (15,10))\n",
    "#sns.violinplot(x=\"seasonid\", y=\"wardsplaced\", hue=\"win\", data=df_wards, split=True, inner='quartile')\n",
    "#plt.title('Wardsplaced by season: win vs loss')\n",
    "\n",
    "\n",
    "\n",
    "\n",
    "# Uma plotagem de violino mostra a distribuição de uma única variável numérica e transmite a densidade da distribuição\n",
    "#baseada em um kernel mais suave que indica a densidade de valores (via largura) do campo numérico\n",
    "# inner : {“box”, “quartile”, “point”, “stick”, None}, optional\n",
    "#df.wardsplaced.describe()\n",
    "df['wardsplaced'] = df['wardsplaced'].apply(lambda x: x if x<30 else 30)\n",
    "df['wardsplaced'] = df['wardsplaced'].apply(lambda x: x if x>0 else 0)\n",
    "plt.figure(figsize = (15,10))\n",
    "sns.violinplot(x=\"seasonid\", y=\"wardsplaced\", hue=\"win\", data=df, split=True, inner = 'quartile')\n",
    "plt.title('Visão Colocada (wardsplaced) pela temporada (seasonid): vitória (win) vs derrota (loss)')"
   ]
  },
  {
   "cell_type": "code",
   "execution_count": 37,
   "metadata": {},
   "outputs": [
    {
     "name": "stdout",
     "output_type": "stream",
     "text": [
      "Top 10 win rate\n",
      "          total matches  win rate   K   D    A  KDA\n",
      "name                                               \n",
      "Ivern              6671      55.9 2.6 4.2 13.3  3.8\n",
      "Anivia             6433      54.0 6.4 4.8  7.5  2.9\n",
      "Xerath             5108      53.6 7.3 5.4  8.6  2.9\n",
      "Ahri              30840      53.5 7.3 5.6  7.7  2.7\n",
      "Sona              11847      53.1 3.0 5.7 13.9  2.9\n",
      "Skarner            1720      53.1 4.8 5.0  9.2  2.8\n",
      "Zilean             4797      53.0 3.2 4.7 11.9  3.2\n",
      "KogMaw             6440      52.7 7.9 6.6  7.1  2.3\n",
      "Janna             21182      52.7 0.9 4.0 14.5  3.8\n",
      "Pantheon           8872      52.6 8.1 6.5  6.8  2.3\n",
      "Bottom 10 win rate\n",
      "         total matches  win rate   K   D    A  KDA\n",
      "name                                              \n",
      "Nidalee           4520      46.6 7.0 6.1  7.3  2.3\n",
      "LeBlanc           8690      46.6 8.0 5.9  6.1  2.4\n",
      "Zed              17687      46.4 8.5 6.5  5.7  2.2\n",
      "Jhin             11240      46.4 7.1 5.9  8.6  2.6\n",
      "Poppy             5165      46.3 4.4 5.3  8.2  2.4\n",
      "Rengar            6590      45.7 7.0 6.6  6.4  2.0\n",
      "Rakan            18339      45.6 1.5 5.6 14.2  2.8\n",
      "Ezreal           23480      45.5 6.7 5.5  8.0  2.7\n",
      "Azir              2597      44.1 5.9 6.6  6.6  1.9\n",
      "Ryze              4607      38.9 5.4 6.3  6.2  1.9\n"
     ]
    }
   ],
   "source": [
    "pd.options.display.float_format = '{:,.1f}'.format\n",
    "\n",
    "df_win_rate = df.groupby('name').agg({'win': 'sum', 'name': 'count', 'kills': 'mean', 'deaths': 'mean', 'assists': 'mean'})\n",
    "df_win_rate.columns = ['win matches', 'total matches', 'K', 'D', 'A']\n",
    "df_win_rate['win rate'] = df_win_rate['win matches'] /  df_win_rate['total matches'] * 100\n",
    "df_win_rate['KDA'] = (df_win_rate['K'] + df_win_rate['A']) / df_win_rate['D']\n",
    "df_win_rate = df_win_rate.sort_values('win rate', ascending = False)\n",
    "df_win_rate = df_win_rate[['total matches', 'win rate', 'K', 'D', 'A', 'KDA']]\n",
    "print('Top 10 win rate')\n",
    "print(df_win_rate.head(10))\n",
    "print('Bottom 10 win rate')\n",
    "print(df_win_rate.tail(10))"
   ]
  },
  {
   "cell_type": "code",
   "execution_count": 38,
   "metadata": {},
   "outputs": [
    {
     "data": {
      "image/png": "[encoded data removed]",
      "text/plain": [
       "<Figure size 1080x720 with 1 Axes>"
      ]
     },
     "metadata": {},
     "output_type": "display_data"
    }
   ],
   "source": [
    "df_win_rate.reset_index(inplace = True)\n",
    "\n",
    "def label_point(x, y, val, ax):\n",
    "    a = pd.concat({'x': x, 'y': y, 'val': val}, axis=1)\n",
    "    for i, point in a.iterrows():\n",
    "        ax.text(point['x'], point['y'], str(point['val']))\n",
    "\n",
    "df_win_rate['color map'] = df_win_rate['win rate'].apply(lambda x: 'green' if x > 50 else 'red')\n",
    "\n",
    "ax = df_win_rate.plot(kind = 'scatter', x = 'total matches', y = 'win rate', color = df_win_rate['color map'].tolist(), figsize = (15,10), title = 'win rate vs # matches by champions')\n",
    "\n",
    "label_point(df_win_rate['total matches'], df_win_rate['win rate'], df_win_rate['name'], ax)"
   ]
  },
  {
   "cell_type": "markdown",
   "metadata": {},
   "source": [
    "# Finalização\n",
    "### Dificuldades: \n",
    "* Alta quantidade de tuplas\n",
    "* Muitas features\n",
    "\n",
    "### Aprendizados:\n",
    "* Trabalhar com grande quantidade de dados\n",
    "* Processamento dos dados\n",
    "\n",
    "### Melhorias futuras:\n",
    "* Standizar os dados e testar\n",
    "* Testar o modelo final para novos dados\n",
    "* Realizar uma análise com um foco em poucas features"
   ]
  },
  {
   "cell_type": "code",
   "execution_count": null,
   "metadata": {},
   "outputs": [],
   "source": []
  }
 ],
 "metadata": {
  "kernelspec": {
   "display_name": "Python 3",
   "language": "python",
   "name": "python3"
  },
  "language_info": {
   "codemirror_mode": {
    "name": "ipython",
    "version": 3
   },
   "file_extension": ".py",
   "mimetype": "text/x-python",
   "name": "python",
   "nbconvert_exporter": "python",
   "pygments_lexer": "ipython3",
   "version": "3.6.5"
  }
 },
 "nbformat": 4,
 "nbformat_minor": 2
}
